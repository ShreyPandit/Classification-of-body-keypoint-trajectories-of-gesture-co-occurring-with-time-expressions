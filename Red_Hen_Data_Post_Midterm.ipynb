{
  "cells": [
    {
      "cell_type": "markdown",
      "metadata": {
        "id": "CoyNtwpj8cgq"
      },
      "source": [
        "# Importing Libraries"
      ]
    },
    {
      "cell_type": "code",
      "execution_count": 1,
      "metadata": {
        "colab": {
          "base_uri": "https://localhost:8080/"
        },
        "id": "MuDFah1iL8zE",
        "outputId": "6fb701e3-c089-4c32-ea74-84af32244a66"
      },
      "outputs": [
        {
          "output_type": "stream",
          "name": "stdout",
          "text": [
            "Mounted at /content/drive\n"
          ]
        }
      ],
      "source": [
        "from google.colab import drive\n",
        "drive.mount('/content/drive')"
      ]
    },
    {
      "cell_type": "code",
      "source": [
        "pip install mycolorpy"
      ],
      "metadata": {
        "id": "WXQvOt7gAKyg"
      },
      "execution_count": null,
      "outputs": []
    },
    {
      "cell_type": "code",
      "source": [
        "pip install vformer"
      ],
      "metadata": {
        "id": "rEf5URba24Nf"
      },
      "execution_count": null,
      "outputs": []
    },
    {
      "cell_type": "code",
      "execution_count": 3,
      "metadata": {
        "id": "Ui02_Hbz_y-E"
      },
      "outputs": [],
      "source": [
        "import shutil\n",
        "import pandas as pd\n",
        "import numpy as np\n",
        "from tqdm import tqdm\n",
        "import os\n",
        "from matplotlib.colors import ListedColormap\n",
        "from mycolorpy import colorlist as mcp\n",
        "import numpy as np\n",
        "import matplotlib as mpl\n",
        "import matplotlib.pyplot as plt\n",
        "from matplotlib import cm\n",
        "from PIL import Image\n",
        "import torch\n",
        "from vformer.models.classification import CCT\n",
        "from torch.utils.data import (DataLoader, RandomSampler, SequentialSampler,\n",
        "                              TensorDataset)\n",
        "import torch\n",
        "from torchvision import transforms\n",
        "from PIL import Image\n",
        "convert_tensor = transforms.ToTensor()"
      ]
    },
    {
      "cell_type": "markdown",
      "metadata": {
        "id": "n5AUg78R8kAZ"
      },
      "source": [
        "Importing a sample video from the dataset"
      ]
    },
    {
      "cell_type": "code",
      "execution_count": null,
      "metadata": {
        "id": "sb-A4F85uo_O"
      },
      "outputs": [],
      "source": [
        "pip install gdown"
      ]
    },
    {
      "cell_type": "code",
      "execution_count": null,
      "metadata": {
        "id": "4Ecr5foOupCH"
      },
      "outputs": [],
      "source": [
        "!gdown https://drive.google.com/uc?id=1_7lbdZGC5EsN7o2u2LEdKNqseB85AC4l"
      ]
    },
    {
      "cell_type": "code",
      "execution_count": null,
      "metadata": {
        "id": "NF9UI1JI_dVD"
      },
      "outputs": [],
      "source": [
        "# !wget https://labyrinth01.inf.um.es/downloads/GSoC_2022_Multimodal_DATASET.tgz"
      ]
    },
    {
      "cell_type": "markdown",
      "metadata": {
        "id": "XXyvLMOx9PDH"
      },
      "source": [
        "# Open Pose"
      ]
    },
    {
      "cell_type": "code",
      "execution_count": null,
      "metadata": {
        "id": "sRC7eJQlAVQq"
      },
      "outputs": [],
      "source": [
        "import os\n",
        "from os.path import exists, join, basename, splitext\n",
        "\n",
        "git_repo_url = 'https://github.com/CMU-Perceptual-Computing-Lab/openpose.git'\n",
        "project_name = splitext(basename(git_repo_url))[0]\n",
        "if not exists(project_name):\n",
        "  # see: https://github.com/CMU-Perceptual-Computing-Lab/openpose/issues/949\n",
        "  # install new CMake becaue of CUDA10\n",
        "  !wget -q https://cmake.org/files/v3.13/cmake-3.13.0-Linux-x86_64.tar.gz\n",
        "  !tar xfz cmake-3.13.0-Linux-x86_64.tar.gz --strip-components=1 -C /usr/local\n",
        "  # clone openpose\n",
        "  !git clone -q --depth 1 $git_repo_url\n",
        "  !sed -i 's/execute_process(COMMAND git checkout master WORKING_DIRECTORY ${CMAKE_SOURCE_DIR}\\/3rdparty\\/caffe)/execute_process(COMMAND git checkout f019d0dfe86f49d1140961f8c7dec22130c83154 WORKING_DIRECTORY ${CMAKE_SOURCE_DIR}\\/3rdparty\\/caffe)/g' openpose/CMakeLists.txt\n",
        "  # install system dependencies\n",
        "  !apt-get -qq install -y libatlas-base-dev libprotobuf-dev libleveldb-dev libsnappy-dev libhdf5-serial-dev protobuf-compiler libgflags-dev libgoogle-glog-dev liblmdb-dev opencl-headers ocl-icd-opencl-dev libviennacl-dev\n",
        "  # install python dependencies\n",
        "  # !pip install -q youtube-dl\n",
        "  # build openpose\n",
        "  !cd openpose && rm -rf build || true && mkdir build && cd build && cmake .. && make -j`nproc`\n"
      ]
    },
    {
      "cell_type": "code",
      "execution_count": null,
      "metadata": {
        "id": "4w6ufBjfUnR3"
      },
      "outputs": [],
      "source": [
        "def with_moviepy(filename):\n",
        "    from moviepy.editor import VideoFileClip\n",
        "    clip = VideoFileClip(filename)\n",
        "    duration       = clip.duration\n",
        "    fps            = clip.fps\n",
        "    return duration"
      ]
    },
    {
      "cell_type": "code",
      "execution_count": null,
      "metadata": {
        "id": "zKSkaOESX1mN"
      },
      "outputs": [],
      "source": [
        "# import shutil\n",
        "# shutil.copy(\"/content/drive/MyDrive/GSoC_DATASET/Demarcative/from_beginning_to_end/2006-02-14_1400_US_WWW_Democracy_Now_2153-2159_ID924_from_beginning_to_end.mp4\",\"/content/youtube.mp4\")"
      ]
    },
    {
      "cell_type": "code",
      "execution_count": null,
      "metadata": {
        "colab": {
          "base_uri": "https://localhost:8080/"
        },
        "id": "Cr1y_m2ghFj3",
        "outputId": "1e7cb925-b295-4c2e-a403-20ce7e698c73"
      },
      "outputs": [
        {
          "name": "stdout",
          "output_type": "stream",
          "text": [
            "The total duration of the given video is 6 seconds\n"
          ]
        }
      ],
      "source": [
        "duration= int(with_moviepy(\"/content/drive/MyDrive/GSoC_DATASET/Demarcative/from_beginning_to_end/2006-02-14_1400_US_WWW_Democracy_Now_2153-2159_ID924_from_beginning_to_end.mp4\"))\n",
        "print(f\"The total duration of the given video is {duration} seconds\")"
      ]
    },
    {
      "cell_type": "code",
      "execution_count": null,
      "metadata": {
        "id": "01YzP7y1rpKi"
      },
      "outputs": [],
      "source": [
        "path = \"/content/drive/MyDrive/GSoC_DATASET/Sequential/previously/\"\n",
        "all = os.listdir(path)"
      ]
    },
    {
      "cell_type": "code",
      "execution_count": null,
      "metadata": {
        "colab": {
          "base_uri": "https://localhost:8080/"
        },
        "id": "1GNdvHUFNB4L",
        "outputId": "d39bb87e-8bde-47de-fc86-f3cb2f1c3ff9"
      },
      "outputs": [
        {
          "data": {
            "text/plain": [
              "128"
            ]
          },
          "execution_count": 13,
          "metadata": {},
          "output_type": "execute_result"
        }
      ],
      "source": [
        "len(all)"
      ]
    },
    {
      "cell_type": "code",
      "execution_count": null,
      "metadata": {
        "id": "Kk2dpOo-rpMz"
      },
      "outputs": [],
      "source": [
        "for i,data in enumerate(all):\n",
        "  all[i] = path + data"
      ]
    },
    {
      "cell_type": "code",
      "execution_count": null,
      "metadata": {
        "id": "ydxsMirCxTZQ"
      },
      "outputs": [],
      "source": [
        "%%time\n",
        "for i,data in tqdm(enumerate(all)):\n",
        "  j = i\n",
        "  start_time=0\n",
        "  duration= int(with_moviepy(data))\n",
        "  path = \"/content/drive/MyDrive/GSOC_JSON/Sequential/clip\" + str(j) + \"/\"\n",
        "\n",
        "  !ffmpeg -y -loglevel info -ss $start_time -t $duration -i $data /content/clip.mp4\n",
        "  # # detect poses on the these 10 seconds\n",
        "  !cd openpose && ./build/examples/openpose/openpose.bin --face --hand --video ../clip.mp4 --write_json $path --display 0  --write_video /content/clip_openpose.avi --keypoint_scale 3 --num_gpu -1 --model_pose BODY_25 --part_candidates\n",
        "  # convert the result into MP4\n",
        "  os.remove(\"/content/clip.mp4\")\n",
        "  os.remove(\"/content/clip_openpose.avi\")"
      ]
    },
    {
      "cell_type": "code",
      "execution_count": null,
      "metadata": {
        "id": "zpKqhqK-X5LP"
      },
      "outputs": [],
      "source": [
        "path = \"/content/\"\n",
        "list_all = os.listdir(\"/content/\")\n",
        "for i in list_all:\n",
        "  if(\"clip\") in i:\n",
        "    path_temp = path + i\n",
        "    path_to = \"/content/drive/MyDrive/GSOC_JSON/\" + i\n",
        "    shutil.copytree(path_temp,path_to)"
      ]
    },
    {
      "cell_type": "code",
      "execution_count": null,
      "metadata": {
        "id": "sADF5d3NgGxN"
      },
      "outputs": [],
      "source": [
        "for i,data in tqdm(enumerate(all[:1])):\n",
        "  start_time=0\n",
        "  duration= int(with_moviepy(data))\n",
        "  print(f\"The duration of the clip is {duration}\")\n",
        "  print(data)\n",
        "  path_save = \"/content/clip\" + str(i) + \".mp4\"\n",
        "\n",
        "  !ffmpeg -y -loglevel info -ss $start_time -t $duration -i data path_save\n",
        "  # # detect poses on the these 10 seconds\n",
        "  !cd openpose && ./build/examples/openpose/openpose.bin --face --hand --video path_save --write_json /content/clip/ --display 0 --keypoint_scale 3 --num_gpu -1 --model_pose BODY_25 --part_candidates"
      ]
    },
    {
      "cell_type": "code",
      "execution_count": null,
      "metadata": {
        "id": "gSNjWyE_O_2c",
        "colab": {
          "base_uri": "https://localhost:8080/",
          "height": 741
        },
        "outputId": "565daf8a-fc7b-489f-f401-e0059748c23f"
      },
      "outputs": [
        {
          "output_type": "execute_result",
          "data": {
            "text/plain": [
              "<IPython.core.display.HTML object>"
            ],
            "text/html": [
              "<video width=\"960\" height=\"720\" alt=\"test\" controls>\n",
              "                        <source src=\"data:video/mp4;base64,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\" type=\"video/mp4\" />\n",
              "                      </video>"
            ]
          },
          "metadata": {},
          "execution_count": 40
        }
      ],
      "source": [
        "def show_local_mp4_video(file_name, width=640, height=480):\n",
        "  import io\n",
        "  import base64\n",
        "  from IPython.display import HTML\n",
        "  video_encoded = base64.b64encode(io.open(file_name, 'rb').read())\n",
        "  return HTML(data='''<video width=\"{0}\" height=\"{1}\" alt=\"test\" controls>\n",
        "                        <source src=\"data:video/mp4;base64,{2}\" type=\"video/mp4\" />\n",
        "                      </video>'''.format(width, height, video_encoded.decode('ascii')))\n",
        "\n",
        "show_local_mp4_video('/content/drive/MyDrive/GSoC_DATASET/Deictic/back_then/2004-08-05_1300_US_WWW_Democracy_Now_994-998_ID171_back_then.mp4', width=960, height=720)\n"
      ]
    },
    {
      "cell_type": "code",
      "execution_count": null,
      "metadata": {
        "id": "xHtpdc1gO_5B"
      },
      "outputs": [],
      "source": [
        "# Code to seperate the frame from the video\n",
        "# !rm openpose/images/video_out*.png\n",
        "# !mkdir openpose/output_images/\n",
        "# !cd openpose && ffmpeg -ss 0 -t 6 -i /content/youtube.mp4 ./output_images/out%05d.png -vf fps=30"
      ]
    },
    {
      "cell_type": "code",
      "execution_count": null,
      "metadata": {
        "id": "Jh5Mk3xOAULD"
      },
      "outputs": [],
      "source": [
        "mkdir videoJSON"
      ]
    },
    {
      "cell_type": "code",
      "execution_count": null,
      "metadata": {
        "colab": {
          "base_uri": "https://localhost:8080/",
          "height": 35
        },
        "id": "rIG6F_4AAZdm",
        "outputId": "37a9ebfa-40ff-4148-b40d-58ef966eafef"
      },
      "outputs": [
        {
          "data": {
            "application/vnd.google.colaboratory.intrinsic+json": {
              "type": "string"
            },
            "text/plain": [
              "'/content/videoJSON/clip/'"
            ]
          },
          "execution_count": 11,
          "metadata": {},
          "output_type": "execute_result"
        }
      ],
      "source": [
        "shutil.copytree(\"/content/clip\",\"/content/videoJSON/clip/\")"
      ]
    },
    {
      "cell_type": "markdown",
      "metadata": {
        "id": "-vUCYfzjYezN"
      },
      "source": [
        "# ParselMouth"
      ]
    },
    {
      "cell_type": "code",
      "execution_count": null,
      "metadata": {
        "colab": {
          "base_uri": "https://localhost:8080/"
        },
        "id": "_8KkWxbLYjVW",
        "outputId": "f90ba85b-3cb9-4042-c24c-bb6b62c08640"
      },
      "outputs": [
        {
          "name": "stdout",
          "output_type": "stream",
          "text": [
            "Cloning into 'simple-speech-features'...\n",
            "remote: Enumerating objects: 44, done.\u001b[K\n",
            "Unpacking objects:   2% (1/44)   \rUnpacking objects:   4% (2/44)   \rUnpacking objects:   6% (3/44)   \rUnpacking objects:   9% (4/44)   \rUnpacking objects:  11% (5/44)   \rUnpacking objects:  13% (6/44)   \rUnpacking objects:  15% (7/44)   \rUnpacking objects:  18% (8/44)   \rUnpacking objects:  20% (9/44)   \rUnpacking objects:  22% (10/44)   \rUnpacking objects:  25% (11/44)   \rUnpacking objects:  27% (12/44)   \rUnpacking objects:  29% (13/44)   \rUnpacking objects:  31% (14/44)   \rUnpacking objects:  34% (15/44)   \rUnpacking objects:  36% (16/44)   \rUnpacking objects:  38% (17/44)   \rUnpacking objects:  40% (18/44)   \rUnpacking objects:  43% (19/44)   \rremote: Total 44 (delta 0), reused 0 (delta 0), pack-reused 44\u001b[K\n",
            "Unpacking objects:  45% (20/44)   \rUnpacking objects:  47% (21/44)   \rUnpacking objects:  50% (22/44)   \rUnpacking objects:  52% (23/44)   \rUnpacking objects:  54% (24/44)   \rUnpacking objects:  56% (25/44)   \rUnpacking objects:  59% (26/44)   \rUnpacking objects:  61% (27/44)   \rUnpacking objects:  63% (28/44)   \rUnpacking objects:  65% (29/44)   \rUnpacking objects:  68% (30/44)   \rUnpacking objects:  70% (31/44)   \rUnpacking objects:  72% (32/44)   \rUnpacking objects:  75% (33/44)   \rUnpacking objects:  77% (34/44)   \rUnpacking objects:  79% (35/44)   \rUnpacking objects:  81% (36/44)   \rUnpacking objects:  84% (37/44)   \rUnpacking objects:  86% (38/44)   \rUnpacking objects:  88% (39/44)   \rUnpacking objects:  90% (40/44)   \rUnpacking objects:  93% (41/44)   \rUnpacking objects:  95% (42/44)   \rUnpacking objects:  97% (43/44)   \rUnpacking objects: 100% (44/44)   \rUnpacking objects: 100% (44/44), done.\n"
          ]
        }
      ],
      "source": [
        "!git clone https://github.com/uzaymacar/simple-speech-features.git"
      ]
    },
    {
      "cell_type": "code",
      "execution_count": null,
      "metadata": {
        "colab": {
          "base_uri": "https://localhost:8080/"
        },
        "id": "YbmpCy_-Yp1p",
        "outputId": "af6c1224-e734-401d-b696-54435b620728"
      },
      "outputs": [
        {
          "name": "stdout",
          "output_type": "stream",
          "text": [
            "/content/simple-speech-features\n"
          ]
        }
      ],
      "source": [
        "cd simple-speech-features/"
      ]
    },
    {
      "cell_type": "code",
      "execution_count": null,
      "metadata": {
        "colab": {
          "base_uri": "https://localhost:8080/"
        },
        "id": "3iFBvHkGYtOc",
        "outputId": "9ee8f98c-697f-411b-af70-c98fe106c04a"
      },
      "outputs": [
        {
          "name": "stdout",
          "output_type": "stream",
          "text": [
            "Looking in indexes: https://pypi.org/simple, https://us-python.pkg.dev/colab-wheels/public/simple/\n",
            "Collecting praat-parselmouth\n",
            "  Downloading praat_parselmouth-0.4.1-cp37-cp37m-manylinux_2_12_x86_64.manylinux2010_x86_64.whl (10.7 MB)\n",
            "\u001b[K     |████████████████████████████████| 10.7 MB 19.8 MB/s \n",
            "\u001b[?25hRequirement already satisfied: numpy>=1.7.0 in /usr/local/lib/python3.7/dist-packages (from praat-parselmouth) (1.21.6)\n",
            "Installing collected packages: praat-parselmouth\n",
            "Successfully installed praat-parselmouth-0.4.1\n"
          ]
        }
      ],
      "source": [
        "import pandas as pd\n",
        "\n",
        "!pip install praat-parselmouth\n",
        "import parselmouth\n",
        "\n",
        "from feature_extraction_utils import *\n",
        "\n",
        "import wave, sys"
      ]
    },
    {
      "cell_type": "code",
      "execution_count": null,
      "metadata": {
        "colab": {
          "base_uri": "https://localhost:8080/"
        },
        "id": "8oz5llwNK5mM",
        "outputId": "c481fb11-2185-420f-d2f9-1663e777b48b"
      },
      "outputs": [
        {
          "name": "stdout",
          "output_type": "stream",
          "text": [
            "/content\n"
          ]
        }
      ],
      "source": [
        "cd .."
      ]
    },
    {
      "cell_type": "code",
      "execution_count": null,
      "metadata": {
        "colab": {
          "base_uri": "https://localhost:8080/"
        },
        "id": "foVNcQClhYnq",
        "outputId": "30b61669-cf9a-4b2f-a77f-85bfc81b7fc1"
      },
      "outputs": [
        {
          "name": "stdout",
          "output_type": "stream",
          "text": [
            "ffmpeg version 3.4.11-0ubuntu0.1 Copyright (c) 2000-2022 the FFmpeg developers\n",
            "  built with gcc 7 (Ubuntu 7.5.0-3ubuntu1~18.04)\n",
            "  configuration: --prefix=/usr --extra-version=0ubuntu0.1 --toolchain=hardened --libdir=/usr/lib/x86_64-linux-gnu --incdir=/usr/include/x86_64-linux-gnu --enable-gpl --disable-stripping --enable-avresample --enable-avisynth --enable-gnutls --enable-ladspa --enable-libass --enable-libbluray --enable-libbs2b --enable-libcaca --enable-libcdio --enable-libflite --enable-libfontconfig --enable-libfreetype --enable-libfribidi --enable-libgme --enable-libgsm --enable-libmp3lame --enable-libmysofa --enable-libopenjpeg --enable-libopenmpt --enable-libopus --enable-libpulse --enable-librubberband --enable-librsvg --enable-libshine --enable-libsnappy --enable-libsoxr --enable-libspeex --enable-libssh --enable-libtheora --enable-libtwolame --enable-libvorbis --enable-libvpx --enable-libwavpack --enable-libwebp --enable-libx265 --enable-libxml2 --enable-libxvid --enable-libzmq --enable-libzvbi --enable-omx --enable-openal --enable-opengl --enable-sdl2 --enable-libdc1394 --enable-libdrm --enable-libiec61883 --enable-chromaprint --enable-frei0r --enable-libopencv --enable-libx264 --enable-shared\n",
            "  libavutil      55. 78.100 / 55. 78.100\n",
            "  libavcodec     57.107.100 / 57.107.100\n",
            "  libavformat    57. 83.100 / 57. 83.100\n",
            "  libavdevice    57. 10.100 / 57. 10.100\n",
            "  libavfilter     6.107.100 /  6.107.100\n",
            "  libavresample   3.  7.  0 /  3.  7.  0\n",
            "  libswscale      4.  8.100 /  4.  8.100\n",
            "  libswresample   2.  9.100 /  2.  9.100\n",
            "  libpostproc    54.  7.100 / 54.  7.100\n",
            "Input #0, mov,mp4,m4a,3gp,3g2,mj2, from '/content/youtube.mp4':\n",
            "  Metadata:\n",
            "    major_brand     : isom\n",
            "    minor_version   : 512\n",
            "    compatible_brands: isomiso2avc1mp41\n",
            "    encoder         : Lavf56.25.101\n",
            "  Duration: 00:00:03.02, start: 0.000000, bitrate: 474 kb/s\n",
            "    Stream #0:0(eng): Video: h264 (High) (avc1 / 0x31637661), yuv420p, 448x336, 360 kb/s, 29.97 fps, 29.97 tbr, 30k tbn, 59.94 tbc (default)\n",
            "    Metadata:\n",
            "      handler_name    : VideoHandler\n",
            "    Stream #0:1(und): Audio: aac (LC) (mp4a / 0x6134706D), 44100 Hz, stereo, fltp, 105 kb/s (default)\n",
            "    Metadata:\n",
            "      handler_name    : SoundHandler\n",
            "Stream mapping:\n",
            "  Stream #0:1 -> #0:0 (aac (native) -> pcm_s16le (native))\n",
            "Press [q] to stop, [?] for help\n",
            "Output #0, wav, to '/content/output.wav':\n",
            "  Metadata:\n",
            "    major_brand     : isom\n",
            "    minor_version   : 512\n",
            "    compatible_brands: isomiso2avc1mp41\n",
            "    ISFT            : Lavf57.83.100\n",
            "    Stream #0:0(und): Audio: pcm_s16le ([1][0][0][0] / 0x0001), 44100 Hz, stereo, s16, 1411 kb/s (default)\n",
            "    Metadata:\n",
            "      handler_name    : SoundHandler\n",
            "      encoder         : Lavc57.107.100 pcm_s16le\n",
            "size=     520kB time=00:00:03.01 bitrate=1411.4kbits/s speed= 669x    \n",
            "video:0kB audio:520kB subtitle:0kB other streams:0kB global headers:0kB muxing overhead: 0.014648%\n"
          ]
        }
      ],
      "source": [
        "!ffmpeg -i /content/youtube.mp4 -q:a 0 -map a /content/output.wav "
      ]
    },
    {
      "cell_type": "code",
      "execution_count": null,
      "metadata": {
        "id": "xlInt3DzY-UR"
      },
      "outputs": [],
      "source": [
        "def extract_content(path):\n",
        "  fps = 1/29.97\n",
        "  sound = parselmouth.Sound('/content/output.wav')\n",
        "  df = pd.DataFrame()\n",
        "\n",
        "  attributes = {}\n",
        "  intensity_second_wise = []\n",
        "  pitch_second_wise = []\n",
        "\n",
        "  intensity_attributes1 = get_intensity_attributes(sound,time_step=fps,return_values=True)\n",
        "  pitch_attributes1 = get_pitch_attributes(sound,time_step=fps,return_values=True)\n",
        "\n",
        "  intensity_attributes = intensity_attributes1[0]\n",
        "  pitch_attributes = pitch_attributes1[0]\n",
        "\n",
        "  intensity_attributes2 = intensity_attributes1[1]\n",
        "  pitch_attributes2 = pitch_attributes1[1]\n",
        "\n",
        "  attributes.update(intensity_attributes)\n",
        "  attributes.update(pitch_attributes)\n",
        "\n",
        "  intensity_second_wise.append(intensity_attributes2)\n",
        "  pitch_second_wise.append(pitch_attributes2)\n",
        "\n",
        "  hnr_attributes = get_harmonics_to_noise_ratio_attributes(sound,time_step=fps)[0]\n",
        "  gne_attributes = get_glottal_to_noise_ratio_attributes(sound)[0]\n",
        "  attributes.update(hnr_attributes)\n",
        "  attributes.update(gne_attributes)\n",
        "\n",
        "  df['local_jitter'] = None\n",
        "  df['local_shimmer'] = None\n",
        "  df.at[0, 'local_jitter'] = get_local_jitter(sound)\n",
        "  df.at[0, 'local_shimmer'] = get_local_shimmer(sound)\n",
        "\n",
        "  spectrum_attributes = get_spectrum_attributes(sound)[0]\n",
        "  attributes.update(spectrum_attributes)\n",
        "\n",
        "  formant_attributes = get_formant_attributes(sound,time_step=fps)[0]\n",
        "  attributes.update(formant_attributes)\n",
        "\n",
        "  lfcc_matrix, mfcc_matrix = get_lfcc(sound,time_step=fps), get_mfcc(sound,time_step=fps)\n",
        "  df['lfcc'] = None\n",
        "  df['mfcc'] = None\n",
        "  df.at[0, 'lfcc'] = lfcc_matrix\n",
        "  df.at[0, 'mfcc'] = mfcc_matrix\n",
        "\n",
        "  delta_mfcc_matrix = get_delta(mfcc_matrix)\n",
        "  delta_delta_mfcc_matrix = get_delta(delta_mfcc_matrix)\n",
        "  df['delta_mfcc'] = None\n",
        "  df['delta_delta_mfcc'] = None\n",
        "  df.at[0, 'delta_mfcc'] = delta_mfcc_matrix\n",
        "  df.at[0, 'delta_delta_mfcc'] = delta_delta_mfcc_matrix\n",
        "\n",
        "  for attribute in attributes:\n",
        "      df.at[0, attribute] = attributes[attribute]\n",
        "      \n",
        "  # df.at[0, 'sound_filepath'] = sound_filepath\n",
        "  rearranged_columns = df.columns.tolist()[-1:] + df.columns.tolist()[:-1]\n",
        "  df = df[rearranged_columns]\n",
        "\n",
        "  return df, intensity_second_wise, pitch_second_wise"
      ]
    },
    {
      "cell_type": "code",
      "execution_count": null,
      "metadata": {
        "id": "Be9uoDI5mVa4"
      },
      "outputs": [],
      "source": [
        "df, intensity_second_wise, pitch_second_wise = extract_content(\"/content/youtube.mp4\")"
      ]
    },
    {
      "cell_type": "code",
      "execution_count": null,
      "metadata": {
        "colab": {
          "base_uri": "https://localhost:8080/"
        },
        "id": "Z-B4TtEvifmH",
        "outputId": "dcf09065-94ee-49ae-c1b0-dffbb6e4d2f8"
      },
      "outputs": [
        {
          "data": {
            "text/plain": [
              "88"
            ]
          },
          "execution_count": 19,
          "metadata": {},
          "output_type": "execute_result"
        }
      ],
      "source": [
        "len(intensity_second_wise[0])"
      ]
    },
    {
      "cell_type": "code",
      "execution_count": null,
      "metadata": {
        "colab": {
          "base_uri": "https://localhost:8080/"
        },
        "id": "k2HmOuYGNR7x",
        "outputId": "31bee0a6-a3c6-4c85-fb96-7d1b83899a4a"
      },
      "outputs": [
        {
          "data": {
            "text/plain": [
              "90"
            ]
          },
          "execution_count": 20,
          "metadata": {},
          "output_type": "execute_result"
        }
      ],
      "source": [
        "len(pitch_second_wise[0])"
      ]
    },
    {
      "cell_type": "code",
      "execution_count": null,
      "metadata": {
        "colab": {
          "base_uri": "https://localhost:8080/"
        },
        "id": "Qzkae8-sfQAE",
        "outputId": "c70cd98d-9c5b-4022-d647-3627ace70794"
      },
      "outputs": [
        {
          "data": {
            "text/plain": [
              "Index(['vtl_delta_f', 'local_jitter', 'local_shimmer', 'lfcc', 'mfcc',\n",
              "       'delta_mfcc', 'delta_delta_mfcc', 'min_intensity',\n",
              "       'relative_min_intensity_time', 'max_intensity',\n",
              "       'relative_max_intensity_time', 'mean_intensity', 'stddev_intensity',\n",
              "       'q1_intensity', 'median_intensity', 'q3_intensity', 'voiced_fraction',\n",
              "       'min_pitch', 'relative_min_pitch_time', 'max_pitch',\n",
              "       'relative_max_pitch_time', 'mean_pitch', 'stddev_pitch', 'q1_pitch',\n",
              "       'q3_pitch', 'mean_absolute_pitch_slope',\n",
              "       'pitch_slope_without_octave_jumps', 'min_hnr', 'relative_min_hnr_time',\n",
              "       'max_hnr', 'relative_max_hnr_time', 'mean_hnr', 'stddev_hnr', 'min_gne',\n",
              "       'max_gne', 'mean_gne', 'stddev_gne', 'sum_gne', 'band_energy',\n",
              "       'band_density', 'band_energy_difference', 'band_density_difference',\n",
              "       'center_of_gravity_spectrum', 'stddev_spectrum', 'skewness_spectrum',\n",
              "       'kurtosis_spectrum', 'central_moment_spectrum', 'f1_mean', 'f2_mean',\n",
              "       'f3_mean', 'f4_mean', 'f1_median', 'f2_median', 'f3_median',\n",
              "       'f4_median', 'formant_dispersion', 'average_formant', 'mff',\n",
              "       'fitch_vtl', 'delta_f'],\n",
              "      dtype='object')"
            ]
          },
          "execution_count": 21,
          "metadata": {},
          "output_type": "execute_result"
        }
      ],
      "source": [
        "df.columns"
      ]
    },
    {
      "cell_type": "code",
      "execution_count": null,
      "metadata": {
        "colab": {
          "base_uri": "https://localhost:8080/"
        },
        "id": "7a7T5Ii0fVIl",
        "outputId": "9b0600c5-c747-4db1-9cc9-be6dd6792471"
      },
      "outputs": [
        {
          "name": "stdout",
          "output_type": "stream",
          "text": [
            "The frame wise intensity is [[0.0, 51.171858003637794, 51.04812800564383, 70.4457147805014, 70.11365067550616, 63.92296410784869, 63.27139025976389, 67.23579060770602, 71.5401771074944, 69.98059346879978, 71.18604822245034, 68.19327519002121, 55.090250296169316, 62.09092696778805, 69.51450299522287, 70.16708061941428, 71.11761072038868, 71.09137154870795, 66.8807205572579, 54.33997505302209, 51.45821615597734, 60.13566517197666, 71.63304146222042, 69.73178823305855, 68.94801501297101, 69.07590385547695, 69.88008257991655, 66.9458724202368, 69.67928458499922, 66.21689609248638, 62.67978124251818, 63.26347980027541, 69.60149488813144, 69.0234920426026, 68.32116883065385, 63.38555464110379, 44.871927175148585, 53.00606820715129, 64.80626501941117, 70.1501401831331, 65.1817155984121, 53.22523324526547, 48.886108565580585, 66.70945548853689, 71.26126844495273, 70.90524089731119, 71.01280451080196, 66.86144588075734, 63.39100186888843, 69.94301125253341, 65.43983236130177, 50.133390780508016, 48.8728385504134, 54.017997292542105, 66.8867212754983, 69.9552023073862, 69.63268246798039, 67.81413846819288, 53.89546195158431, 60.32230510290954, 63.23167524991707, 66.76191593800725, 70.31892773461718, 71.32362638509672, 70.86913296188418, 67.43561036737147, 49.504019869548856, 47.13539254873702, 49.97049357629561, 51.64056943064903, 52.28008980077231, 53.504011379411466, 52.343090805392606, 49.68840909849713, 46.33425258724866, 45.93685412700151, 66.87536440894212, 72.35324009516711, 72.23665855035458, 68.64207487897565, 57.05032479701895, 46.59120910798574, 53.7674601987719, 69.44128503937353, 72.87654056305287, 72.61118069737608, 73.206218092711, 72.9171164914308]]\n"
          ]
        }
      ],
      "source": [
        "print(f\"The frame wise intensity is {intensity_second_wise}\")"
      ]
    },
    {
      "cell_type": "code",
      "execution_count": null,
      "metadata": {
        "colab": {
          "base_uri": "https://localhost:8080/"
        },
        "id": "Fwly12yZlnge",
        "outputId": "643c170e-93cf-4a5d-86de-3aa5ca3ed8d7"
      },
      "outputs": [
        {
          "name": "stdout",
          "output_type": "stream",
          "text": [
            "The frame wise pitch is [[0.0, 165.2575325210995, 119.43850944439548, 0.0, 146.84343570185496, 143.05287416760558, 142.48464335425845, 148.43450142865882, 167.8328352708336, 219.18277214368715, 265.0857276893456, 282.48248688556095, 273.07444089705126, 257.88679128935553, 190.3171660874647, 191.73421793340313, 171.34744548728963, 158.53578162637612, 152.52495665470698, 144.45256345751864, 121.10171402609157, 108.97812190342647, 0.0, 131.7582636901433, 127.23927463446812, 127.28085060583585, 132.97409465274063, 146.93649018710744, 166.61009646306968, 177.17320551534445, 178.45923951957639, 157.4582276696907, 134.41557884148463, 138.09846899489136, 149.17506718123724, 174.36446981484627, 0.0, 0.0, 0.0, 193.32361323395807, 186.04670920447805, 167.12182965476552, 0.0, 0.0, 190.57439386893847, 192.55987943519423, 189.8553527527032, 182.8626066728062, 174.68477645559636, 162.74920341495633, 156.3318495272434, 143.89314196445773, 0.0, 0.0, 0.0, 219.69624578872012, 238.234718896223, 249.67824300511288, 230.70283251863535, 176.73698719921524, 0.0, 0.0, 151.10356880562364, 124.21446423494339, 124.85348979957895, 136.93649927864303, 140.7902149761792, 0.0, 0.0, 0.0, 0.0, 0.0, 0.0, 0.0, 0.0, 0.0, 0.0, 168.58418556748134, 180.39248438102493, 187.417292027383, 186.60827865822327, 0.0, 0.0, 0.0, 175.90002319729842, 204.28586870248114, 237.5061986157739, 254.82104589857397, 263.81275606767247, 256.2452934334451]]\n"
          ]
        }
      ],
      "source": [
        "print(f\"The frame wise pitch is {pitch_second_wise}\")"
      ]
    },
    {
      "cell_type": "markdown",
      "metadata": {
        "id": "KWlE1vSkiI_M"
      },
      "source": [
        "# Running R Code - Brian"
      ]
    },
    {
      "cell_type": "code",
      "execution_count": null,
      "metadata": {
        "id": "yNJXyCySK48h"
      },
      "outputs": [],
      "source": [
        "%load_ext rpy2.ipython"
      ]
    },
    {
      "cell_type": "code",
      "execution_count": null,
      "metadata": {
        "id": "gDX8WTGyioph"
      },
      "outputs": [],
      "source": [
        "%%R\n",
        "dfMaker <- function(video.folders,save.csv=F, output.folder,return.empty=F) {\n",
        "  \n",
        "  \n",
        "  video.folders <- list.dirs(video.folders, full.names=TRUE,recursive = F)\n",
        "  # print(video.folders)\n",
        "  \n",
        "  \n",
        "  videoMaker<<- function(video.folders,output.folder,save.csv,return.empty,value) {\n",
        "      \n",
        "    \n",
        "    \n",
        "    \n",
        "    files<-list.files(video.folders, pattern=\"*.json\", full.names=TRUE)\n",
        "    \n",
        "    \n",
        "    out=NULL\n",
        "    emptyFrames=NULL\n",
        "    \n",
        "    \n",
        "    \n",
        "    frameMaker<<-function(file){\n",
        "        \n",
        "      require(jsonlite)\n",
        "      \n",
        "      \n",
        "      rawData<-read_json( path = file)\n",
        "      \n",
        "            \n",
        "      rawData<-rawData[2]\n",
        "      \n",
        "      rawData<-rawData[[1]]\n",
        "      \n",
        "      dfPoints=NULL\n",
        "      \n",
        "      for (id in 1:length(rawData)) {\n",
        "        \n",
        "        if(length(rawData)!=0) {\n",
        "          \n",
        "          points<-data.frame(unlist(rawData[[id]]),people=id)\n",
        "          \n",
        "          dfPoints=rbind(dfPoints,points) }else{\n",
        "            \n",
        "            empty<-paste(file)\n",
        "            \n",
        "            \n",
        "          }}\n",
        "      \n",
        "      \n",
        "      \n",
        "      pattern<- sample(T, size=137*3, replace= T) # points triplicates\n",
        "      \n",
        "      \n",
        "      pattern<-c(F,pattern)\n",
        "      \n",
        "      \n",
        "      if(!is.null(dfPoints)){\n",
        "        pattern<-rep(pattern, times=max(dfPoints$people))\n",
        "      }  \n",
        "      \n",
        "      \n",
        "      \n",
        "      dfPoints<-dfPoints[pattern,]\n",
        "      ##\n",
        "      \n",
        "      type<-rownames(dfPoints)\n",
        "      type<-gsub(\"_2d[0-9]*\", \"\", type)\n",
        "      \n",
        "      ###\n",
        "      words<-gsub(\"_0000.*\", \"\", file)\n",
        "      \n",
        "      \n",
        "      words<-gsub(\".*[0-9]_\", \"\", words)\n",
        "      \n",
        "      \n",
        "      ###\n",
        "      \n",
        "      frame<-gsub(paste(\".*_000\", sep = \"\"), \"\", file)\n",
        "      \n",
        "      frame<-as.numeric(gsub(\"_.*\",\"\", frame))\n",
        "      ###\n",
        "      \n",
        "      name<-gsub(paste(\"_\",words,\".*\", sep = \"\"), \"\", file)\n",
        "      name<-gsub(paste(\".*/\",sep = \"\"), \"\", name)\n",
        "      \n",
        "      ###\n",
        "      \n",
        "      \n",
        "      triplet<-c(T,F,F)\n",
        "      ###\n",
        "      groups <- c(\"x\", \"y\", \"c\") # the variables of the final df\n",
        "      if(!is.null(dfPoints)){\n",
        "          \n",
        "        pointsDF<-data.frame(split(dfPoints[,1], f = groups), \n",
        "                             people=dfPoints$people[triplet],\n",
        "                             typePoint=  type[triplet],\n",
        "                             point= c(0:24,0:69,0:20,0:20),\n",
        "                             words=words,\n",
        "                             frame=frame,\n",
        "                             name=name) # split in 3 columns \n",
        "                             \n",
        "        return(pointsDF)\n",
        "      }else{\n",
        "          \n",
        "        return(empty)\n",
        "      }\n",
        "      \n",
        "      \n",
        "    }\n",
        "    \n",
        "    \n",
        "    \n",
        "    for (i in 1:length(files)){\n",
        "      \n",
        "      c <- data.frame(frameMaker(files[i]))\n",
        "      \n",
        "      \n",
        "      if (length(c)!=1) {\n",
        "        out=rbind(out,c)\n",
        "      }else{\n",
        "        \n",
        "        emptyFrames=rbind(emptyFrames,c)\n",
        "      }\n",
        "      \n",
        "      \n",
        "      \n",
        "      \n",
        "    }\n",
        "    \n",
        "    if (save.csv==T) {\n",
        "        \n",
        "      folder<-output.folder\n",
        "      dir.create(folder,recursive = T)\n",
        "      print(value)\n",
        "      write.csv(x = out, paste(folder,\"/\",value,\".csv\",sep = \"\"),row.names = F)\n",
        "      # write.csv(x = out, paste(folder,\"/\",\"files\",\".csv\",sep = \"\"),row.names = F)\n",
        "    }\n",
        "    \n",
        "    if (return.empty==T) {\n",
        "      video<-list(out,emptyFrames)\n",
        "      return(video)\n",
        "    }else{\n",
        "      return(out)\n",
        "    }\n",
        "    \n",
        "    \n",
        "    \n",
        "    \n",
        "  }\n",
        "  \n",
        "  \n",
        "  result=NULL\n",
        "  dFinal<-NULL\n",
        "  totalEmpty<-NULL\n",
        "  \n",
        "  for (i in 1:(length(video.folders))) {\n",
        "\n",
        "    \n",
        "    dfVideo<-videoMaker( video.folders[i],save.csv = save.csv,output.folder = output.folder,return.empty = return.empty, value = i )\n",
        "  \n",
        "    if (return.empty==F) {\n",
        "      \n",
        "      result=rbind(result,dfVideo)\n",
        "    }else{\n",
        "      \n",
        "      dFinal=rbind(dFinal,dfVideo[[1]])\n",
        "      totalEmpty=rbind(totalEmpty,dfVideo[[2]])\n",
        "      result<-list(dFinal,totalEmpty)\n",
        "      \n",
        "    }\n",
        "    \n",
        "    \n",
        "  }\n",
        "  \n",
        "  return(result)\n",
        "}\n",
        "\n",
        "result = dfMaker(\"/content/drive/MyDrive/GSOC_JSON/Sequential/\",save.csv = T,return.empty = T,output.folder = \"/content/drive/MyDrive/GSOC_CSV/Sequential\")\n"
      ]
    },
    {
      "cell_type": "markdown",
      "source": [
        "# Cleaning the CSV Files"
      ],
      "metadata": {
        "id": "iXjc_25p-G48"
      }
    },
    {
      "cell_type": "code",
      "source": [
        "list_files = os.listdir(\"/content/drive/MyDrive/GSOC_CSV/Sequential\")"
      ],
      "metadata": {
        "id": "Q0AZVgT1-K46"
      },
      "execution_count": null,
      "outputs": []
    },
    {
      "cell_type": "code",
      "execution_count": 4,
      "metadata": {
        "id": "DiQZXYglgEHX"
      },
      "outputs": [],
      "source": [
        "def remove_dupli(df):\n",
        "  vals = []\n",
        "  index_drop = []\n",
        "  for i in range(len(df)):\n",
        "    if df['frame'].values[i] in vals:\n",
        "      index_drop.append(i)\n",
        "    else:\n",
        "      vals.append(df['frame'].values[i])\n",
        "\n",
        "  df.drop(labels = index_drop,axis=0,inplace=True)\n",
        "  print(f\"Dropped the values at index {index_drop}\")\n",
        "\n",
        "  return df"
      ]
    },
    {
      "cell_type": "code",
      "execution_count": 5,
      "metadata": {
        "id": "nwUboyWlKFoM"
      },
      "outputs": [],
      "source": [
        "def csv2df(path):\n",
        "  df = pd.read_csv(path,index_col=False,error_bad_lines=False)\n",
        "\n",
        "  df_pose = df[(df['typePoint']=='pose_keypoints')]\n",
        "\n",
        "  df_points_right = df_pose[df_pose['point']==4].reset_index().drop(labels=\"index\",axis=1)\n",
        "  df_points_left = df_pose[df_pose['point']==7].reset_index().drop(labels=\"index\",axis=1)\n",
        "  df_points_head = df_pose[df_pose['point']==0].reset_index().drop(labels=\"index\",axis=1)\n",
        "\n",
        "  df_points_right = remove_dupli(df_points_right)\n",
        "  df_points_left = remove_dupli(df_points_left)\n",
        "  df_points_head = remove_dupli(df_points_head)\n",
        "\n",
        "  coordinates_left = []\n",
        "  coordinates_right = []\n",
        "  coordinates_head = []\n",
        "\n",
        "  for i in range(len(df_points_right)):\n",
        "    x = df_points_right['x'].values[i]\n",
        "    y = df_points_right['y'].values[i]\n",
        "    coordinates_right.append((x,y))\n",
        "\n",
        "  for i in range(len(df_points_left)):\n",
        "    x = df_points_left['x'].values[i]\n",
        "    y = df_points_left['y'].values[i]\n",
        "    coordinates_left.append((x,y))\n",
        "\n",
        "  for i in range(len(df_points_head)):\n",
        "    x = df_points_head['x'].values[i]\n",
        "    y = df_points_head['y'].values[i]\n",
        "    coordinates_head.append((x,y))\n",
        "\n",
        "\n",
        "  # val = (abs(len(intensity_second_wise[0]) - len(pitch_second_wise[0])))\n",
        "  val=0\n",
        "\n",
        "  df_final = pd.DataFrame()\n",
        "  df_final['Left_Hand'] = coordinates_left[val:]\n",
        "  df_final['Right_Hand'] = coordinates_right[val:]\n",
        "  df_final['Head'] = coordinates_head[val:]\n",
        "  # df_final['Intensity'] = intensity_second_wise[0]\n",
        "  # df_final['Pitch'] = pitch_second_wise[0][val:]\n",
        "\n",
        "  return df_final"
      ]
    },
    {
      "cell_type": "code",
      "source": [
        "df = csv2df(\"/content/drive/MyDrive/GSOC_CSV/Deictic/1.csv\")"
      ],
      "metadata": {
        "colab": {
          "base_uri": "https://localhost:8080/"
        },
        "id": "YkTQK6oGDhhn",
        "outputId": "504a9530-3b5d-41c4-f001-419529762f42"
      },
      "execution_count": 6,
      "outputs": [
        {
          "output_type": "stream",
          "name": "stderr",
          "text": [
            "/usr/local/lib/python3.7/dist-packages/ipykernel_launcher.py:1: FutureWarning: The error_bad_lines argument has been deprecated and will be removed in a future version.\n",
            "\n",
            "\n",
            "  \"\"\"Entry point for launching an IPython kernel.\n"
          ]
        },
        {
          "output_type": "stream",
          "name": "stdout",
          "text": [
            "Dropped the values at index []\n",
            "Dropped the values at index []\n",
            "Dropped the values at index []\n"
          ]
        }
      ]
    },
    {
      "cell_type": "code",
      "source": [
        "xs = []\n",
        "ys = []\n",
        "for index,row in df.iterrows():\n",
        "  x,y = row['Left_Hand']\n",
        "  xs.append(x)\n",
        "  y = abs(1-y)\n",
        "  ys.append(y)"
      ],
      "metadata": {
        "id": "fjo5jzGFO8rD"
      },
      "execution_count": 7,
      "outputs": []
    },
    {
      "cell_type": "code",
      "source": [
        "xr = []\n",
        "yr = []\n",
        "for index,row in df.iterrows():\n",
        "  x,y = row['Right_Hand']\n",
        "  xr.append(x)\n",
        "  y = abs(1-y)\n",
        "  yr.append(y)"
      ],
      "metadata": {
        "id": "-l5bvwBuO8tc"
      },
      "execution_count": 8,
      "outputs": []
    },
    {
      "cell_type": "code",
      "source": [
        "cmaps = {}\n",
        "\n",
        "gradient = np.linspace(0, 1, 256)\n",
        "gradient = np.vstack((gradient, gradient))\n",
        "\n",
        "\n",
        "def plot_color_gradients(category, cmap_list):\n",
        "    # Create figure and adjust figure height to number of colormaps\n",
        "    nrows = len(cmap_list)\n",
        "    figh = 0.35 + 0.15 + (nrows + (nrows - 1) * 0.1) * 0.22\n",
        "    fig, axs = plt.subplots(nrows=nrows + 1, figsize=(6.4, figh))\n",
        "    fig.subplots_adjust(top=1 - 0.35 / figh, bottom=0.15 / figh,\n",
        "                        left=0.2, right=0.99)\n",
        "    axs[0].set_title(f'{category} colormaps', fontsize=14)\n",
        "\n",
        "    for ax, name in zip(axs, cmap_list):\n",
        "        ax.imshow(gradient, aspect='auto', cmap=plt.get_cmap(name))\n",
        "        ax.text(-0.01, 0.5, name, va='center', ha='right', fontsize=10,\n",
        "                transform=ax.transAxes)\n",
        "\n",
        "    # Turn off *all* ticks & spines, not just the ones with colormaps.\n",
        "    for ax in axs:\n",
        "        ax.set_axis_off()\n",
        "\n",
        "    # Save colormap list for later.\n",
        "    cmaps[category] = cmap_list"
      ],
      "metadata": {
        "id": "LGuQNCxmAflN"
      },
      "execution_count": null,
      "outputs": []
    },
    {
      "cell_type": "code",
      "source": [
        ""
      ],
      "metadata": {
        "id": "l7kp-qfwQ8WP"
      },
      "execution_count": null,
      "outputs": []
    },
    {
      "cell_type": "code",
      "source": [
        "len(list_files)"
      ],
      "metadata": {
        "id": "cJpdsaJ9Bh7D",
        "colab": {
          "base_uri": "https://localhost:8080/"
        },
        "outputId": "77cf996a-a4cf-456b-c2ab-1450eedc1c91"
      },
      "execution_count": null,
      "outputs": [
        {
          "output_type": "execute_result",
          "data": {
            "text/plain": [
              "74"
            ]
          },
          "metadata": {},
          "execution_count": 58
        }
      ]
    },
    {
      "cell_type": "code",
      "execution_count": 12,
      "metadata": {
        "colab": {
          "base_uri": "https://localhost:8080/",
          "height": 1000
        },
        "id": "0KGkCrRch7xr",
        "outputId": "bb5e56bf-90c0-4e1c-9253-5fdfcc8a741c"
      },
      "outputs": [
        {
          "output_type": "stream",
          "name": "stderr",
          "text": [
            "\r  0%|          | 0/128 [00:00<?, ?it/s]/usr/local/lib/python3.7/dist-packages/ipykernel_launcher.py:6: FutureWarning: The error_bad_lines argument has been deprecated and will be removed in a future version.\n",
            "\n",
            "\n",
            "  \n"
          ]
        },
        {
          "output_type": "stream",
          "name": "stdout",
          "text": [
            "Dropped the values at index [3, 11, 13, 29, 33, 40, 42, 45, 69, 71, 76, 82, 86, 88, 90, 93, 95, 98, 100, 102, 104, 106, 108, 110, 112, 114, 116, 118, 120, 122, 124, 126, 128, 130, 132, 134, 136, 138, 140, 142, 144, 146, 148, 150, 155, 186]\n",
            "Dropped the values at index [3, 11, 13, 29, 33, 40, 42, 45, 69, 71, 76, 82, 86, 88, 90, 93, 95, 98, 100, 102, 104, 106, 108, 110, 112, 114, 116, 118, 120, 122, 124, 126, 128, 130, 132, 134, 136, 138, 140, 142, 144, 146, 148, 150, 155, 186]\n",
            "Dropped the values at index [3, 11, 13, 29, 33, 40, 42, 45, 69, 71, 76, 82, 86, 88, 90, 93, 95, 98, 100, 102, 104, 106, 108, 110, 112, 114, 116, 118, 120, 122, 124, 126, 128, 130, 132, 134, 136, 138, 140, 142, 144, 146, 148, 150, 155, 186]\n"
          ]
        },
        {
          "output_type": "stream",
          "name": "stderr",
          "text": [
            "\r  1%|          | 1/128 [00:00<02:00,  1.06it/s]"
          ]
        },
        {
          "output_type": "stream",
          "name": "stdout",
          "text": [
            "Dropped the values at index []\n",
            "Dropped the values at index []\n",
            "Dropped the values at index []\n"
          ]
        },
        {
          "output_type": "stream",
          "name": "stderr",
          "text": [
            "\r  2%|▏         | 2/128 [00:01<01:49,  1.15it/s]"
          ]
        },
        {
          "output_type": "stream",
          "name": "stdout",
          "text": [
            "Dropped the values at index [1, 3, 5, 7, 9, 11, 13, 15, 17, 19, 21, 23, 25, 27, 29, 31, 33, 35, 37, 39, 41, 43, 45, 47, 49, 51, 53, 55, 57, 59, 61, 63, 65, 67, 69, 71, 73, 75, 77, 79, 81, 83, 85, 87, 89, 91, 93, 95, 97, 99, 101, 103, 105, 107, 109, 111, 113, 115, 117, 119, 121, 123, 125, 127, 129, 131, 133, 135, 137, 139, 141, 143, 145, 147, 149, 151, 159, 162, 164, 166, 168, 170, 172, 174, 176, 178, 180, 182, 184, 186, 188, 190, 192, 194, 196, 198, 200, 202, 204, 206, 208, 210, 212, 214, 216, 218, 220, 222, 224, 226, 228, 230, 232, 233, 235, 237, 239, 241, 243, 245, 247, 249, 251, 253, 255, 257, 259, 261, 263, 265, 267, 269, 271, 273, 275, 277, 279, 281, 283, 285, 287, 289, 291, 293]\n",
            "Dropped the values at index [1, 3, 5, 7, 9, 11, 13, 15, 17, 19, 21, 23, 25, 27, 29, 31, 33, 35, 37, 39, 41, 43, 45, 47, 49, 51, 53, 55, 57, 59, 61, 63, 65, 67, 69, 71, 73, 75, 77, 79, 81, 83, 85, 87, 89, 91, 93, 95, 97, 99, 101, 103, 105, 107, 109, 111, 113, 115, 117, 119, 121, 123, 125, 127, 129, 131, 133, 135, 137, 139, 141, 143, 145, 147, 149, 151, 159, 162, 164, 166, 168, 170, 172, 174, 176, 178, 180, 182, 184, 186, 188, 190, 192, 194, 196, 198, 200, 202, 204, 206, 208, 210, 212, 214, 216, 218, 220, 222, 224, 226, 228, 230, 232, 233, 235, 237, 239, 241, 243, 245, 247, 249, 251, 253, 255, 257, 259, 261, 263, 265, 267, 269, 271, 273, 275, 277, 279, 281, 283, 285, 287, 289, 291, 293]\n",
            "Dropped the values at index [1, 3, 5, 7, 9, 11, 13, 15, 17, 19, 21, 23, 25, 27, 29, 31, 33, 35, 37, 39, 41, 43, 45, 47, 49, 51, 53, 55, 57, 59, 61, 63, 65, 67, 69, 71, 73, 75, 77, 79, 81, 83, 85, 87, 89, 91, 93, 95, 97, 99, 101, 103, 105, 107, 109, 111, 113, 115, 117, 119, 121, 123, 125, 127, 129, 131, 133, 135, 137, 139, 141, 143, 145, 147, 149, 151, 159, 162, 164, 166, 168, 170, 172, 174, 176, 178, 180, 182, 184, 186, 188, 190, 192, 194, 196, 198, 200, 202, 204, 206, 208, 210, 212, 214, 216, 218, 220, 222, 224, 226, 228, 230, 232, 233, 235, 237, 239, 241, 243, 245, 247, 249, 251, 253, 255, 257, 259, 261, 263, 265, 267, 269, 271, 273, 275, 277, 279, 281, 283, 285, 287, 289, 291, 293]\n"
          ]
        },
        {
          "output_type": "stream",
          "name": "stderr",
          "text": [
            "\r  2%|▏         | 3/128 [00:02<01:37,  1.29it/s]"
          ]
        },
        {
          "output_type": "stream",
          "name": "stdout",
          "text": [
            "Dropped the values at index []\n",
            "Dropped the values at index []\n",
            "Dropped the values at index []\n"
          ]
        },
        {
          "output_type": "stream",
          "name": "stderr",
          "text": [
            "\r  3%|▎         | 4/128 [00:03<01:32,  1.35it/s]"
          ]
        },
        {
          "output_type": "stream",
          "name": "stdout",
          "text": [
            "Dropped the values at index []\n",
            "Dropped the values at index []\n",
            "Dropped the values at index []\n"
          ]
        },
        {
          "output_type": "stream",
          "name": "stderr",
          "text": [
            "\r  4%|▍         | 5/128 [00:04<01:52,  1.10it/s]"
          ]
        },
        {
          "output_type": "stream",
          "name": "stdout",
          "text": [
            "Dropped the values at index [1, 2, 3, 4, 5, 6, 8, 9, 10, 11, 12, 14, 15, 16, 17, 18, 20, 21, 22, 23, 24, 26, 27, 28, 29, 30, 32, 33, 34, 35, 36, 38, 39, 40, 41, 42, 43, 45, 46, 47, 48, 49, 50, 52, 53, 54, 55, 56, 57, 59, 60, 61, 62, 63, 64, 66, 67, 68, 69, 70, 71, 73, 74, 75, 76, 77, 79, 80, 81, 82, 83, 85, 86, 87, 88, 89, 91, 92, 93, 94, 95, 97, 98, 99, 100, 101, 103, 104, 105, 106, 107, 109, 110, 111, 112, 113, 115, 116, 117, 118, 119, 121, 122, 123, 124, 125, 127, 128, 129, 130, 131, 133, 134, 135, 136, 137, 139, 140, 141, 142, 143, 144, 146, 147, 148, 149, 150, 152, 153, 154, 155, 156, 158, 159, 160, 161, 162, 164, 165, 166, 167, 168, 170, 171, 172, 173, 174, 176, 177, 178, 179, 180, 182, 183, 184, 185, 186, 188, 189, 190, 191, 192, 194, 195, 196, 197, 198, 200, 201, 202, 203, 204, 206, 207, 208, 209, 210, 212, 213, 214, 215, 216, 218, 219, 220, 221, 222, 224, 225, 226, 227, 228, 230, 231, 232, 233, 234, 236, 237, 238, 239, 240, 242, 243, 244, 245, 246, 248, 249, 250, 251, 252, 254, 255, 256, 257, 258, 260, 261, 262, 263, 264, 266, 267, 268, 269, 270, 272, 273, 274, 275, 276, 278, 279, 280, 281, 282, 283, 285, 286, 287, 288, 289, 291, 292, 293, 294, 295, 296, 298, 299, 300, 301, 302, 304, 305, 306, 307, 308, 310, 311, 312, 313, 314, 316, 317, 318, 319, 320, 322, 323, 324, 325, 326, 328, 329, 330, 331, 332, 333, 335, 336, 337, 338, 339, 341, 342, 343, 344, 345, 346, 348, 349, 350, 351, 352, 353, 355, 356, 357, 358, 359, 361, 362, 363, 364, 365, 367, 368, 369, 370, 371, 373, 374, 375, 376, 377, 379, 380, 381, 382, 383, 385, 386, 387, 388, 389, 391, 392, 393, 394, 395, 397, 398, 399, 400, 401, 403, 404, 405, 406, 407, 408, 410, 411, 412, 413, 414, 415, 417, 418, 419, 420, 421, 422, 424, 425, 426, 427, 428, 429, 431, 432, 433, 434, 435, 436, 438, 439, 440, 441, 442, 443, 445, 446, 447, 448, 449, 450, 452, 453, 454, 455, 456, 457, 458, 460, 461, 462, 463, 464, 465, 467, 468, 469, 470, 471, 472, 473, 475, 476, 477, 478, 479, 480, 482, 483, 484, 485, 486, 488, 489, 490, 491, 492, 494, 495, 496, 497, 498, 500, 501, 502, 503, 504, 505, 507, 508, 509, 510, 511, 512, 513, 515, 516, 517, 518, 519, 520, 521, 523, 524, 525, 526, 527, 528, 529, 531, 532, 533, 534, 535, 536, 537, 539, 540, 541, 542, 543, 544, 546, 547, 548, 549, 550, 551, 552, 554, 555, 556, 557, 558, 559, 561, 562, 563, 564, 565, 566, 568, 569, 570, 571, 572, 573, 574, 576, 577, 578, 579, 580, 581, 582, 584, 585, 586, 587, 588, 589, 591, 592, 593, 594, 595, 596, 598, 599, 600, 601, 602, 603, 605, 606, 607, 608, 609, 610, 611, 613, 614, 615, 616, 617, 618, 620, 621, 622, 623, 624, 625, 627, 628, 629, 630, 631, 633, 634, 635, 636, 637, 638, 640, 641, 642, 643, 644, 645, 646, 648, 649, 650, 651, 652, 653, 654, 656, 657, 658, 659, 660, 661, 663, 664, 665, 666, 667, 668, 670, 671, 672, 673, 674, 675, 677, 678, 679, 680, 681, 682, 684, 685, 686, 687, 688, 689, 691, 692, 693, 694, 695, 696, 697, 699, 700, 701, 702, 703, 704, 706, 707, 708, 709, 710, 711, 713, 714, 715, 716, 717, 718, 720, 721, 722, 723, 724, 725, 727, 728, 729, 730, 731, 732, 734, 735, 736, 737, 738, 739, 741, 742, 743, 744, 745, 746, 748, 749, 750, 751, 752, 753, 755, 756, 757, 758, 759, 760, 762, 763, 764, 765, 766, 767, 769, 770, 771, 772, 773, 774, 776, 777, 778, 779, 780, 781, 783, 784, 785, 786, 787, 788, 790, 791, 792, 793, 794, 795, 797, 798, 799, 800, 801, 802, 804, 805, 806, 807, 808, 810, 811, 812, 813, 814, 815, 817, 818, 819, 820, 821, 822, 824, 825, 826, 827, 828, 829, 831, 832, 833, 834, 835, 836, 838, 839, 840, 841, 842, 843, 845, 846, 847, 848, 849, 850, 852, 853, 854, 855, 856, 857, 859, 860, 861, 862, 863, 864, 866, 867, 868, 869, 870, 871, 873, 874, 875, 876, 877, 878, 880, 881, 882, 883, 884, 886, 887, 888, 889, 890, 892, 893, 894, 895, 896, 898, 899, 900, 901, 902, 904, 905, 906, 907, 908, 910, 911, 912, 913, 914, 916, 917, 918, 919, 920, 922, 923, 924, 925, 926, 927, 928, 930, 931, 932, 933, 934, 935, 937, 938, 939, 940, 941, 942, 944, 945, 946, 947, 948, 950, 951, 952, 953, 954, 956, 957, 958, 959, 960, 962, 963, 964, 965, 966, 968, 969, 970, 971, 972, 974, 975, 976, 977, 978, 980, 981, 982, 983, 984, 986, 987, 988, 989, 990, 991]\n",
            "Dropped the values at index [1, 2, 3, 4, 5, 6, 8, 9, 10, 11, 12, 14, 15, 16, 17, 18, 20, 21, 22, 23, 24, 26, 27, 28, 29, 30, 32, 33, 34, 35, 36, 38, 39, 40, 41, 42, 43, 45, 46, 47, 48, 49, 50, 52, 53, 54, 55, 56, 57, 59, 60, 61, 62, 63, 64, 66, 67, 68, 69, 70, 71, 73, 74, 75, 76, 77, 79, 80, 81, 82, 83, 85, 86, 87, 88, 89, 91, 92, 93, 94, 95, 97, 98, 99, 100, 101, 103, 104, 105, 106, 107, 109, 110, 111, 112, 113, 115, 116, 117, 118, 119, 121, 122, 123, 124, 125, 127, 128, 129, 130, 131, 133, 134, 135, 136, 137, 139, 140, 141, 142, 143, 144, 146, 147, 148, 149, 150, 152, 153, 154, 155, 156, 158, 159, 160, 161, 162, 164, 165, 166, 167, 168, 170, 171, 172, 173, 174, 176, 177, 178, 179, 180, 182, 183, 184, 185, 186, 188, 189, 190, 191, 192, 194, 195, 196, 197, 198, 200, 201, 202, 203, 204, 206, 207, 208, 209, 210, 212, 213, 214, 215, 216, 218, 219, 220, 221, 222, 224, 225, 226, 227, 228, 230, 231, 232, 233, 234, 236, 237, 238, 239, 240, 242, 243, 244, 245, 246, 248, 249, 250, 251, 252, 254, 255, 256, 257, 258, 260, 261, 262, 263, 264, 266, 267, 268, 269, 270, 272, 273, 274, 275, 276, 278, 279, 280, 281, 282, 283, 285, 286, 287, 288, 289, 291, 292, 293, 294, 295, 296, 298, 299, 300, 301, 302, 304, 305, 306, 307, 308, 310, 311, 312, 313, 314, 316, 317, 318, 319, 320, 322, 323, 324, 325, 326, 328, 329, 330, 331, 332, 333, 335, 336, 337, 338, 339, 341, 342, 343, 344, 345, 346, 348, 349, 350, 351, 352, 353, 355, 356, 357, 358, 359, 361, 362, 363, 364, 365, 367, 368, 369, 370, 371, 373, 374, 375, 376, 377, 379, 380, 381, 382, 383, 385, 386, 387, 388, 389, 391, 392, 393, 394, 395, 397, 398, 399, 400, 401, 403, 404, 405, 406, 407, 408, 410, 411, 412, 413, 414, 415, 417, 418, 419, 420, 421, 422, 424, 425, 426, 427, 428, 429, 431, 432, 433, 434, 435, 436, 438, 439, 440, 441, 442, 443, 445, 446, 447, 448, 449, 450, 452, 453, 454, 455, 456, 457, 458, 460, 461, 462, 463, 464, 465, 467, 468, 469, 470, 471, 472, 473, 475, 476, 477, 478, 479, 480, 482, 483, 484, 485, 486, 488, 489, 490, 491, 492, 494, 495, 496, 497, 498, 500, 501, 502, 503, 504, 505, 507, 508, 509, 510, 511, 512, 513, 515, 516, 517, 518, 519, 520, 521, 523, 524, 525, 526, 527, 528, 529, 531, 532, 533, 534, 535, 536, 537, 539, 540, 541, 542, 543, 544, 546, 547, 548, 549, 550, 551, 552, 554, 555, 556, 557, 558, 559, 561, 562, 563, 564, 565, 566, 568, 569, 570, 571, 572, 573, 574, 576, 577, 578, 579, 580, 581, 582, 584, 585, 586, 587, 588, 589, 591, 592, 593, 594, 595, 596, 598, 599, 600, 601, 602, 603, 605, 606, 607, 608, 609, 610, 611, 613, 614, 615, 616, 617, 618, 620, 621, 622, 623, 624, 625, 627, 628, 629, 630, 631, 633, 634, 635, 636, 637, 638, 640, 641, 642, 643, 644, 645, 646, 648, 649, 650, 651, 652, 653, 654, 656, 657, 658, 659, 660, 661, 663, 664, 665, 666, 667, 668, 670, 671, 672, 673, 674, 675, 677, 678, 679, 680, 681, 682, 684, 685, 686, 687, 688, 689, 691, 692, 693, 694, 695, 696, 697, 699, 700, 701, 702, 703, 704, 706, 707, 708, 709, 710, 711, 713, 714, 715, 716, 717, 718, 720, 721, 722, 723, 724, 725, 727, 728, 729, 730, 731, 732, 734, 735, 736, 737, 738, 739, 741, 742, 743, 744, 745, 746, 748, 749, 750, 751, 752, 753, 755, 756, 757, 758, 759, 760, 762, 763, 764, 765, 766, 767, 769, 770, 771, 772, 773, 774, 776, 777, 778, 779, 780, 781, 783, 784, 785, 786, 787, 788, 790, 791, 792, 793, 794, 795, 797, 798, 799, 800, 801, 802, 804, 805, 806, 807, 808, 810, 811, 812, 813, 814, 815, 817, 818, 819, 820, 821, 822, 824, 825, 826, 827, 828, 829, 831, 832, 833, 834, 835, 836, 838, 839, 840, 841, 842, 843, 845, 846, 847, 848, 849, 850, 852, 853, 854, 855, 856, 857, 859, 860, 861, 862, 863, 864, 866, 867, 868, 869, 870, 871, 873, 874, 875, 876, 877, 878, 880, 881, 882, 883, 884, 886, 887, 888, 889, 890, 892, 893, 894, 895, 896, 898, 899, 900, 901, 902, 904, 905, 906, 907, 908, 910, 911, 912, 913, 914, 916, 917, 918, 919, 920, 922, 923, 924, 925, 926, 927, 928, 930, 931, 932, 933, 934, 935, 937, 938, 939, 940, 941, 942, 944, 945, 946, 947, 948, 950, 951, 952, 953, 954, 956, 957, 958, 959, 960, 962, 963, 964, 965, 966, 968, 969, 970, 971, 972, 974, 975, 976, 977, 978, 980, 981, 982, 983, 984, 986, 987, 988, 989, 990, 991]\n",
            "Dropped the values at index [1, 2, 3, 4, 5, 6, 8, 9, 10, 11, 12, 14, 15, 16, 17, 18, 20, 21, 22, 23, 24, 26, 27, 28, 29, 30, 32, 33, 34, 35, 36, 38, 39, 40, 41, 42, 43, 45, 46, 47, 48, 49, 50, 52, 53, 54, 55, 56, 57, 59, 60, 61, 62, 63, 64, 66, 67, 68, 69, 70, 71, 73, 74, 75, 76, 77, 79, 80, 81, 82, 83, 85, 86, 87, 88, 89, 91, 92, 93, 94, 95, 97, 98, 99, 100, 101, 103, 104, 105, 106, 107, 109, 110, 111, 112, 113, 115, 116, 117, 118, 119, 121, 122, 123, 124, 125, 127, 128, 129, 130, 131, 133, 134, 135, 136, 137, 139, 140, 141, 142, 143, 144, 146, 147, 148, 149, 150, 152, 153, 154, 155, 156, 158, 159, 160, 161, 162, 164, 165, 166, 167, 168, 170, 171, 172, 173, 174, 176, 177, 178, 179, 180, 182, 183, 184, 185, 186, 188, 189, 190, 191, 192, 194, 195, 196, 197, 198, 200, 201, 202, 203, 204, 206, 207, 208, 209, 210, 212, 213, 214, 215, 216, 218, 219, 220, 221, 222, 224, 225, 226, 227, 228, 230, 231, 232, 233, 234, 236, 237, 238, 239, 240, 242, 243, 244, 245, 246, 248, 249, 250, 251, 252, 254, 255, 256, 257, 258, 260, 261, 262, 263, 264, 266, 267, 268, 269, 270, 272, 273, 274, 275, 276, 278, 279, 280, 281, 282, 283, 285, 286, 287, 288, 289, 291, 292, 293, 294, 295, 296, 298, 299, 300, 301, 302, 304, 305, 306, 307, 308, 310, 311, 312, 313, 314, 316, 317, 318, 319, 320, 322, 323, 324, 325, 326, 328, 329, 330, 331, 332, 333, 335, 336, 337, 338, 339, 341, 342, 343, 344, 345, 346, 348, 349, 350, 351, 352, 353, 355, 356, 357, 358, 359, 361, 362, 363, 364, 365, 367, 368, 369, 370, 371, 373, 374, 375, 376, 377, 379, 380, 381, 382, 383, 385, 386, 387, 388, 389, 391, 392, 393, 394, 395, 397, 398, 399, 400, 401, 403, 404, 405, 406, 407, 408, 410, 411, 412, 413, 414, 415, 417, 418, 419, 420, 421, 422, 424, 425, 426, 427, 428, 429, 431, 432, 433, 434, 435, 436, 438, 439, 440, 441, 442, 443, 445, 446, 447, 448, 449, 450, 452, 453, 454, 455, 456, 457, 458, 460, 461, 462, 463, 464, 465, 467, 468, 469, 470, 471, 472, 473, 475, 476, 477, 478, 479, 480, 482, 483, 484, 485, 486, 488, 489, 490, 491, 492, 494, 495, 496, 497, 498, 500, 501, 502, 503, 504, 505, 507, 508, 509, 510, 511, 512, 513, 515, 516, 517, 518, 519, 520, 521, 523, 524, 525, 526, 527, 528, 529, 531, 532, 533, 534, 535, 536, 537, 539, 540, 541, 542, 543, 544, 546, 547, 548, 549, 550, 551, 552, 554, 555, 556, 557, 558, 559, 561, 562, 563, 564, 565, 566, 568, 569, 570, 571, 572, 573, 574, 576, 577, 578, 579, 580, 581, 582, 584, 585, 586, 587, 588, 589, 591, 592, 593, 594, 595, 596, 598, 599, 600, 601, 602, 603, 605, 606, 607, 608, 609, 610, 611, 613, 614, 615, 616, 617, 618, 620, 621, 622, 623, 624, 625, 627, 628, 629, 630, 631, 633, 634, 635, 636, 637, 638, 640, 641, 642, 643, 644, 645, 646, 648, 649, 650, 651, 652, 653, 654, 656, 657, 658, 659, 660, 661, 663, 664, 665, 666, 667, 668, 670, 671, 672, 673, 674, 675, 677, 678, 679, 680, 681, 682, 684, 685, 686, 687, 688, 689, 691, 692, 693, 694, 695, 696, 697, 699, 700, 701, 702, 703, 704, 706, 707, 708, 709, 710, 711, 713, 714, 715, 716, 717, 718, 720, 721, 722, 723, 724, 725, 727, 728, 729, 730, 731, 732, 734, 735, 736, 737, 738, 739, 741, 742, 743, 744, 745, 746, 748, 749, 750, 751, 752, 753, 755, 756, 757, 758, 759, 760, 762, 763, 764, 765, 766, 767, 769, 770, 771, 772, 773, 774, 776, 777, 778, 779, 780, 781, 783, 784, 785, 786, 787, 788, 790, 791, 792, 793, 794, 795, 797, 798, 799, 800, 801, 802, 804, 805, 806, 807, 808, 810, 811, 812, 813, 814, 815, 817, 818, 819, 820, 821, 822, 824, 825, 826, 827, 828, 829, 831, 832, 833, 834, 835, 836, 838, 839, 840, 841, 842, 843, 845, 846, 847, 848, 849, 850, 852, 853, 854, 855, 856, 857, 859, 860, 861, 862, 863, 864, 866, 867, 868, 869, 870, 871, 873, 874, 875, 876, 877, 878, 880, 881, 882, 883, 884, 886, 887, 888, 889, 890, 892, 893, 894, 895, 896, 898, 899, 900, 901, 902, 904, 905, 906, 907, 908, 910, 911, 912, 913, 914, 916, 917, 918, 919, 920, 922, 923, 924, 925, 926, 927, 928, 930, 931, 932, 933, 934, 935, 937, 938, 939, 940, 941, 942, 944, 945, 946, 947, 948, 950, 951, 952, 953, 954, 956, 957, 958, 959, 960, 962, 963, 964, 965, 966, 968, 969, 970, 971, 972, 974, 975, 976, 977, 978, 980, 981, 982, 983, 984, 986, 987, 988, 989, 990, 991]\n"
          ]
        },
        {
          "output_type": "stream",
          "name": "stderr",
          "text": [
            "\r  5%|▍         | 6/128 [00:05<02:12,  1.08s/it]"
          ]
        },
        {
          "output_type": "stream",
          "name": "stdout",
          "text": [
            "Dropped the values at index [1, 2, 3, 4, 5, 7, 8, 9, 10, 11, 13, 14, 15, 16, 17, 19, 20, 21, 22, 23, 25, 26, 27, 28, 29, 31, 32, 33, 34, 35, 37, 38, 39, 40, 41, 43, 44, 45, 46, 47, 49, 50, 51, 52, 53, 55, 56, 57, 58, 59, 61, 62, 63, 64, 65, 67, 68, 69, 70, 71, 73, 74, 75, 76, 77, 79, 80, 81, 82, 83, 85, 86, 87, 88, 89, 91, 92, 93, 94, 95, 97, 98, 99, 100, 101, 103, 104, 105, 106, 107, 109, 110, 111, 112, 113, 115, 116, 117, 118, 119, 121, 122, 123, 124, 125, 127, 128, 129, 130, 131, 133, 134, 135, 136, 137, 139, 140, 141, 142, 143, 145, 146, 147, 148, 149, 151, 152, 153, 154, 155, 157, 158, 159, 160, 161, 163, 164, 165, 166, 167, 169, 170, 171, 172, 173, 175, 176, 177, 178, 179, 181, 182, 183, 184, 185, 187, 188, 189, 190, 191, 193, 194, 195, 196, 197, 199, 200, 201, 202, 203, 205, 206, 207, 208, 209, 211, 212, 213, 214, 215, 217, 218, 219, 220, 221, 223, 224, 225, 226, 227, 229, 230, 231, 232, 233, 235, 236, 237, 238, 239, 241, 242, 243, 244, 245, 247, 248, 249, 250, 251, 253, 254, 255, 256, 257, 259, 260, 261, 262, 263, 265, 266, 267, 268, 269, 271, 272, 273, 274, 275, 277, 278, 279, 280, 281, 283, 284, 285, 286, 287, 289, 290, 291, 292, 293, 295, 296, 297, 298, 299, 301, 302, 303, 304, 305, 307, 308, 309, 310, 311, 313, 314, 315, 316, 317, 319, 320, 321, 322, 323, 325, 326, 327, 328, 329, 331, 332, 333, 334, 335, 337, 338, 339, 340, 341, 343, 344, 345, 346, 347, 349, 350, 351, 352, 353, 355, 356, 357, 358, 359, 360, 362, 363, 364, 365, 366, 368, 369, 370, 371, 372, 374, 375, 376, 377, 378, 380, 381, 382, 383, 384, 386, 387, 388, 389, 390, 392, 393, 394, 395, 396, 398, 399, 400, 401, 402, 404, 405, 406, 407, 408, 410, 411, 412, 413, 414, 416, 417, 418, 419, 420, 422, 423, 424, 425, 426, 428, 429, 430, 431, 432, 434, 435, 436, 437, 438, 440, 441, 442, 443, 444, 446, 447, 448, 449, 450, 452, 453, 454, 455, 456, 458, 459, 460, 461, 462, 464, 465, 466, 467, 468, 470, 471, 472, 473, 474, 476, 477, 478, 479, 480, 482, 483, 484, 485, 486, 488, 489, 490, 491, 492, 494, 495, 496, 497, 498, 500, 501, 502, 503, 504, 506, 507, 508, 509, 510, 512, 513, 514, 515, 516, 518, 519, 520, 521, 522, 524, 525, 526, 527, 528, 530, 531, 532, 533, 534, 536, 537, 538, 539, 540, 542, 543, 544, 545, 546, 548, 549, 550, 551, 552, 554, 555, 556, 557, 558, 560, 561, 562, 563, 564, 566, 567, 568, 569, 570, 572, 573, 574, 575, 576, 578, 579, 580, 581, 582, 584, 585, 586, 587, 588, 590, 591, 592, 593, 594, 596, 597, 598, 599, 600, 602, 603, 604, 605, 606, 608, 609, 610, 611, 612, 614, 615, 616, 617, 618, 620, 621, 622, 623, 624, 626, 627, 628, 629, 630, 632, 633, 634, 635, 636, 638, 639, 640, 641, 642, 643, 645, 646, 647, 648, 649, 651, 652, 653, 654, 655, 657, 658, 659, 660, 661, 663, 664, 665, 666, 667, 669, 670, 671, 672, 673, 675, 676, 677, 678, 679, 681, 682, 683, 684, 685, 687, 688, 689, 690, 691, 693, 694, 695, 696, 697, 699, 700, 701, 702, 703, 705, 706, 707, 708, 709, 711, 712, 713, 714, 715, 717, 718, 719, 720, 721, 723, 724, 725, 726, 727, 729, 730, 731, 732, 733, 735, 736, 737, 738, 739, 741, 742, 743, 744, 745, 747, 748, 749, 750, 751, 753, 754, 755, 756, 757, 759, 760, 761, 762, 763, 765, 766, 767, 768, 769, 771, 772, 773, 774, 775, 777, 778, 779, 780, 781, 783, 784, 785, 786, 787, 789, 790, 791, 792, 793, 795, 796, 797, 798, 799, 801, 802, 803, 804, 805, 807, 808, 809, 810, 811, 813, 814, 815, 816, 817, 819, 820, 821, 822, 823, 825, 826, 827, 828, 829, 831, 832, 833, 834, 835, 837, 838, 839, 840, 841, 843, 844, 845, 846, 847, 849, 850, 851, 852, 853, 855, 856, 857, 858, 859, 861, 862, 863, 864, 865, 867, 868, 869, 870, 871, 873, 874, 875, 876, 877, 879, 880, 881, 882, 883, 885, 886, 887, 888, 889, 891, 892, 893, 894, 895, 897, 898, 899, 900, 901]\n",
            "Dropped the values at index [1, 2, 3, 4, 5, 7, 8, 9, 10, 11, 13, 14, 15, 16, 17, 19, 20, 21, 22, 23, 25, 26, 27, 28, 29, 31, 32, 33, 34, 35, 37, 38, 39, 40, 41, 43, 44, 45, 46, 47, 49, 50, 51, 52, 53, 55, 56, 57, 58, 59, 61, 62, 63, 64, 65, 67, 68, 69, 70, 71, 73, 74, 75, 76, 77, 79, 80, 81, 82, 83, 85, 86, 87, 88, 89, 91, 92, 93, 94, 95, 97, 98, 99, 100, 101, 103, 104, 105, 106, 107, 109, 110, 111, 112, 113, 115, 116, 117, 118, 119, 121, 122, 123, 124, 125, 127, 128, 129, 130, 131, 133, 134, 135, 136, 137, 139, 140, 141, 142, 143, 145, 146, 147, 148, 149, 151, 152, 153, 154, 155, 157, 158, 159, 160, 161, 163, 164, 165, 166, 167, 169, 170, 171, 172, 173, 175, 176, 177, 178, 179, 181, 182, 183, 184, 185, 187, 188, 189, 190, 191, 193, 194, 195, 196, 197, 199, 200, 201, 202, 203, 205, 206, 207, 208, 209, 211, 212, 213, 214, 215, 217, 218, 219, 220, 221, 223, 224, 225, 226, 227, 229, 230, 231, 232, 233, 235, 236, 237, 238, 239, 241, 242, 243, 244, 245, 247, 248, 249, 250, 251, 253, 254, 255, 256, 257, 259, 260, 261, 262, 263, 265, 266, 267, 268, 269, 271, 272, 273, 274, 275, 277, 278, 279, 280, 281, 283, 284, 285, 286, 287, 289, 290, 291, 292, 293, 295, 296, 297, 298, 299, 301, 302, 303, 304, 305, 307, 308, 309, 310, 311, 313, 314, 315, 316, 317, 319, 320, 321, 322, 323, 325, 326, 327, 328, 329, 331, 332, 333, 334, 335, 337, 338, 339, 340, 341, 343, 344, 345, 346, 347, 349, 350, 351, 352, 353, 355, 356, 357, 358, 359, 360, 362, 363, 364, 365, 366, 368, 369, 370, 371, 372, 374, 375, 376, 377, 378, 380, 381, 382, 383, 384, 386, 387, 388, 389, 390, 392, 393, 394, 395, 396, 398, 399, 400, 401, 402, 404, 405, 406, 407, 408, 410, 411, 412, 413, 414, 416, 417, 418, 419, 420, 422, 423, 424, 425, 426, 428, 429, 430, 431, 432, 434, 435, 436, 437, 438, 440, 441, 442, 443, 444, 446, 447, 448, 449, 450, 452, 453, 454, 455, 456, 458, 459, 460, 461, 462, 464, 465, 466, 467, 468, 470, 471, 472, 473, 474, 476, 477, 478, 479, 480, 482, 483, 484, 485, 486, 488, 489, 490, 491, 492, 494, 495, 496, 497, 498, 500, 501, 502, 503, 504, 506, 507, 508, 509, 510, 512, 513, 514, 515, 516, 518, 519, 520, 521, 522, 524, 525, 526, 527, 528, 530, 531, 532, 533, 534, 536, 537, 538, 539, 540, 542, 543, 544, 545, 546, 548, 549, 550, 551, 552, 554, 555, 556, 557, 558, 560, 561, 562, 563, 564, 566, 567, 568, 569, 570, 572, 573, 574, 575, 576, 578, 579, 580, 581, 582, 584, 585, 586, 587, 588, 590, 591, 592, 593, 594, 596, 597, 598, 599, 600, 602, 603, 604, 605, 606, 608, 609, 610, 611, 612, 614, 615, 616, 617, 618, 620, 621, 622, 623, 624, 626, 627, 628, 629, 630, 632, 633, 634, 635, 636, 638, 639, 640, 641, 642, 643, 645, 646, 647, 648, 649, 651, 652, 653, 654, 655, 657, 658, 659, 660, 661, 663, 664, 665, 666, 667, 669, 670, 671, 672, 673, 675, 676, 677, 678, 679, 681, 682, 683, 684, 685, 687, 688, 689, 690, 691, 693, 694, 695, 696, 697, 699, 700, 701, 702, 703, 705, 706, 707, 708, 709, 711, 712, 713, 714, 715, 717, 718, 719, 720, 721, 723, 724, 725, 726, 727, 729, 730, 731, 732, 733, 735, 736, 737, 738, 739, 741, 742, 743, 744, 745, 747, 748, 749, 750, 751, 753, 754, 755, 756, 757, 759, 760, 761, 762, 763, 765, 766, 767, 768, 769, 771, 772, 773, 774, 775, 777, 778, 779, 780, 781, 783, 784, 785, 786, 787, 789, 790, 791, 792, 793, 795, 796, 797, 798, 799, 801, 802, 803, 804, 805, 807, 808, 809, 810, 811, 813, 814, 815, 816, 817, 819, 820, 821, 822, 823, 825, 826, 827, 828, 829, 831, 832, 833, 834, 835, 837, 838, 839, 840, 841, 843, 844, 845, 846, 847, 849, 850, 851, 852, 853, 855, 856, 857, 858, 859, 861, 862, 863, 864, 865, 867, 868, 869, 870, 871, 873, 874, 875, 876, 877, 879, 880, 881, 882, 883, 885, 886, 887, 888, 889, 891, 892, 893, 894, 895, 897, 898, 899, 900, 901]\n",
            "Dropped the values at index [1, 2, 3, 4, 5, 7, 8, 9, 10, 11, 13, 14, 15, 16, 17, 19, 20, 21, 22, 23, 25, 26, 27, 28, 29, 31, 32, 33, 34, 35, 37, 38, 39, 40, 41, 43, 44, 45, 46, 47, 49, 50, 51, 52, 53, 55, 56, 57, 58, 59, 61, 62, 63, 64, 65, 67, 68, 69, 70, 71, 73, 74, 75, 76, 77, 79, 80, 81, 82, 83, 85, 86, 87, 88, 89, 91, 92, 93, 94, 95, 97, 98, 99, 100, 101, 103, 104, 105, 106, 107, 109, 110, 111, 112, 113, 115, 116, 117, 118, 119, 121, 122, 123, 124, 125, 127, 128, 129, 130, 131, 133, 134, 135, 136, 137, 139, 140, 141, 142, 143, 145, 146, 147, 148, 149, 151, 152, 153, 154, 155, 157, 158, 159, 160, 161, 163, 164, 165, 166, 167, 169, 170, 171, 172, 173, 175, 176, 177, 178, 179, 181, 182, 183, 184, 185, 187, 188, 189, 190, 191, 193, 194, 195, 196, 197, 199, 200, 201, 202, 203, 205, 206, 207, 208, 209, 211, 212, 213, 214, 215, 217, 218, 219, 220, 221, 223, 224, 225, 226, 227, 229, 230, 231, 232, 233, 235, 236, 237, 238, 239, 241, 242, 243, 244, 245, 247, 248, 249, 250, 251, 253, 254, 255, 256, 257, 259, 260, 261, 262, 263, 265, 266, 267, 268, 269, 271, 272, 273, 274, 275, 277, 278, 279, 280, 281, 283, 284, 285, 286, 287, 289, 290, 291, 292, 293, 295, 296, 297, 298, 299, 301, 302, 303, 304, 305, 307, 308, 309, 310, 311, 313, 314, 315, 316, 317, 319, 320, 321, 322, 323, 325, 326, 327, 328, 329, 331, 332, 333, 334, 335, 337, 338, 339, 340, 341, 343, 344, 345, 346, 347, 349, 350, 351, 352, 353, 355, 356, 357, 358, 359, 360, 362, 363, 364, 365, 366, 368, 369, 370, 371, 372, 374, 375, 376, 377, 378, 380, 381, 382, 383, 384, 386, 387, 388, 389, 390, 392, 393, 394, 395, 396, 398, 399, 400, 401, 402, 404, 405, 406, 407, 408, 410, 411, 412, 413, 414, 416, 417, 418, 419, 420, 422, 423, 424, 425, 426, 428, 429, 430, 431, 432, 434, 435, 436, 437, 438, 440, 441, 442, 443, 444, 446, 447, 448, 449, 450, 452, 453, 454, 455, 456, 458, 459, 460, 461, 462, 464, 465, 466, 467, 468, 470, 471, 472, 473, 474, 476, 477, 478, 479, 480, 482, 483, 484, 485, 486, 488, 489, 490, 491, 492, 494, 495, 496, 497, 498, 500, 501, 502, 503, 504, 506, 507, 508, 509, 510, 512, 513, 514, 515, 516, 518, 519, 520, 521, 522, 524, 525, 526, 527, 528, 530, 531, 532, 533, 534, 536, 537, 538, 539, 540, 542, 543, 544, 545, 546, 548, 549, 550, 551, 552, 554, 555, 556, 557, 558, 560, 561, 562, 563, 564, 566, 567, 568, 569, 570, 572, 573, 574, 575, 576, 578, 579, 580, 581, 582, 584, 585, 586, 587, 588, 590, 591, 592, 593, 594, 596, 597, 598, 599, 600, 602, 603, 604, 605, 606, 608, 609, 610, 611, 612, 614, 615, 616, 617, 618, 620, 621, 622, 623, 624, 626, 627, 628, 629, 630, 632, 633, 634, 635, 636, 638, 639, 640, 641, 642, 643, 645, 646, 647, 648, 649, 651, 652, 653, 654, 655, 657, 658, 659, 660, 661, 663, 664, 665, 666, 667, 669, 670, 671, 672, 673, 675, 676, 677, 678, 679, 681, 682, 683, 684, 685, 687, 688, 689, 690, 691, 693, 694, 695, 696, 697, 699, 700, 701, 702, 703, 705, 706, 707, 708, 709, 711, 712, 713, 714, 715, 717, 718, 719, 720, 721, 723, 724, 725, 726, 727, 729, 730, 731, 732, 733, 735, 736, 737, 738, 739, 741, 742, 743, 744, 745, 747, 748, 749, 750, 751, 753, 754, 755, 756, 757, 759, 760, 761, 762, 763, 765, 766, 767, 768, 769, 771, 772, 773, 774, 775, 777, 778, 779, 780, 781, 783, 784, 785, 786, 787, 789, 790, 791, 792, 793, 795, 796, 797, 798, 799, 801, 802, 803, 804, 805, 807, 808, 809, 810, 811, 813, 814, 815, 816, 817, 819, 820, 821, 822, 823, 825, 826, 827, 828, 829, 831, 832, 833, 834, 835, 837, 838, 839, 840, 841, 843, 844, 845, 846, 847, 849, 850, 851, 852, 853, 855, 856, 857, 858, 859, 861, 862, 863, 864, 865, 867, 868, 869, 870, 871, 873, 874, 875, 876, 877, 879, 880, 881, 882, 883, 885, 886, 887, 888, 889, 891, 892, 893, 894, 895, 897, 898, 899, 900, 901]\n"
          ]
        },
        {
          "output_type": "stream",
          "name": "stderr",
          "text": [
            "\r  5%|▌         | 7/128 [00:06<02:06,  1.05s/it]"
          ]
        },
        {
          "output_type": "stream",
          "name": "stdout",
          "text": [
            "Dropped the values at index [1, 3, 5, 7, 9, 11, 13, 14, 15, 16, 17, 19, 20, 21, 22, 23, 25, 26, 27, 28, 29, 31, 32, 33, 34, 35, 37, 38, 39, 40, 41, 43, 44, 45, 46, 47, 49, 50, 51, 52, 53, 55, 56, 57, 58, 59, 61, 62, 63, 64, 65, 67, 68, 69, 70, 71, 73, 74, 75, 76, 77, 79, 80, 81, 82, 83, 85, 86, 87, 88, 89, 91, 92, 93, 94, 95, 97, 98, 99, 100, 101, 103, 104, 105, 106, 107, 109, 110, 111, 112, 113, 115, 116, 117, 118, 119, 121, 122, 123, 124, 125, 127, 128, 129, 130, 131, 133, 134, 135, 136, 137, 139, 140, 141, 142, 143, 145, 146, 147, 148, 149, 151, 152, 153, 154, 155, 157, 158, 159, 160, 161, 163, 164, 165, 166, 167, 168, 170, 171, 172, 173, 174, 176, 177, 178, 179, 180, 182, 183, 184, 185, 186, 188, 189, 190, 191, 192, 194, 195, 196, 197, 198, 200, 201, 202, 203, 204, 206, 207, 208, 209, 210, 212, 213, 214, 215, 216, 218, 219, 220, 221, 222, 224, 225, 226, 227, 228, 230, 231, 232, 233, 234, 236, 237, 238, 239, 240, 242, 243, 244, 245, 246, 248, 249, 250, 251, 252, 254, 255, 256, 257, 258, 260, 261, 262, 263, 264, 266, 267, 268, 269, 270, 271, 273, 274, 275, 276, 277, 278, 280, 281, 282, 283, 284, 285, 287, 288, 289, 290, 291, 293, 294, 295, 296, 297, 299, 300, 301, 302, 303, 305, 306, 307, 308, 309, 310, 312, 313, 314, 315, 316, 318, 319, 320, 321, 322, 323, 325, 326, 327, 328, 329, 330, 332, 333, 334, 335, 336, 337, 339, 340, 341, 342, 343, 344, 346, 347, 348, 349, 350, 351, 353, 354, 355, 356, 357, 359, 360, 361, 362, 363, 365, 366, 367, 368, 369, 371, 372, 373, 374, 375, 377, 378, 379, 380, 381, 383, 384, 385, 386, 387, 388, 390, 391, 392, 393, 394, 396, 397, 398, 399, 400, 402, 403, 404, 405, 406, 408, 409, 410, 411, 412, 414, 415, 416, 417, 418, 420, 421, 422, 423, 424, 426, 427, 428, 429, 430, 432, 433, 434, 435, 436, 438, 439, 440, 441, 442, 444, 445, 446, 447, 448, 450, 451, 452, 453, 454, 456, 457, 458, 459, 460, 462, 463, 464, 465, 466, 468, 469, 470, 471, 472, 474, 475, 476, 477, 478, 480, 481, 482, 483, 484, 486, 487, 488, 489, 490, 492, 493, 494, 495, 496, 498, 499, 500, 501, 502, 504, 505, 506, 507, 508, 510, 511, 512, 513, 514, 516, 517, 518, 519, 520, 522, 523, 524, 525, 526, 528, 529, 530, 531, 532, 534, 535, 536, 537, 538, 540, 541, 542, 543, 544, 546, 547, 548, 549, 550, 552, 553, 554, 555, 556, 558, 559, 560, 561, 562, 564, 565, 566, 567, 568, 570, 571, 572, 573, 574, 576, 577, 578, 579, 580, 582, 583, 584, 585, 586, 588, 589, 590, 591, 592, 594, 595, 596, 597, 598, 599, 601, 602, 603, 604, 605, 607, 608, 609, 610, 611, 613, 614, 615, 616, 617, 619, 620, 621, 622, 623, 625, 626, 627, 628, 629, 631, 632, 633, 634, 635, 637, 638, 639, 640, 641, 643, 644, 645, 646, 647, 649, 650, 651, 652, 653, 655, 656, 657, 658, 659, 661, 662, 663, 664, 665, 667, 668, 669, 670, 671, 673, 674, 675, 676, 677, 679, 680, 681, 682, 683, 685, 686, 687, 688, 689, 691, 692, 693, 694, 695, 697, 698, 699, 700, 701, 703, 704, 705, 706, 707, 709, 710, 711, 712, 713, 715, 716, 717, 718, 719, 721, 722, 723, 724, 725, 727, 728, 729, 730, 731, 733, 734, 735, 736, 737, 739, 740, 741, 742, 743, 745, 746, 747, 748, 749, 751, 752, 753, 754, 755, 757, 758, 759, 760, 761, 763, 764, 765, 766, 767, 769, 770, 771, 772, 773, 775, 776, 777, 778, 779, 781, 782, 783, 784, 785, 787, 788, 789, 790, 791, 793, 794, 795, 796, 797, 799, 800, 801, 802, 803, 805, 806, 807, 808, 809, 811, 812, 813, 814, 815, 817, 818, 819, 820, 821, 823, 824, 825, 826, 827, 829, 830, 831, 832, 833, 835, 836, 837, 838, 839, 841, 842, 843, 844, 845, 847, 848, 849, 850, 851, 853, 854, 855, 856, 857, 859, 860, 861, 862, 863, 865, 866, 867, 868, 869, 871, 872, 873, 874, 875, 877, 878, 879, 880, 881, 883, 884, 885, 886, 887]\n",
            "Dropped the values at index [1, 3, 5, 7, 9, 11, 13, 14, 15, 16, 17, 19, 20, 21, 22, 23, 25, 26, 27, 28, 29, 31, 32, 33, 34, 35, 37, 38, 39, 40, 41, 43, 44, 45, 46, 47, 49, 50, 51, 52, 53, 55, 56, 57, 58, 59, 61, 62, 63, 64, 65, 67, 68, 69, 70, 71, 73, 74, 75, 76, 77, 79, 80, 81, 82, 83, 85, 86, 87, 88, 89, 91, 92, 93, 94, 95, 97, 98, 99, 100, 101, 103, 104, 105, 106, 107, 109, 110, 111, 112, 113, 115, 116, 117, 118, 119, 121, 122, 123, 124, 125, 127, 128, 129, 130, 131, 133, 134, 135, 136, 137, 139, 140, 141, 142, 143, 145, 146, 147, 148, 149, 151, 152, 153, 154, 155, 157, 158, 159, 160, 161, 163, 164, 165, 166, 167, 168, 170, 171, 172, 173, 174, 176, 177, 178, 179, 180, 182, 183, 184, 185, 186, 188, 189, 190, 191, 192, 194, 195, 196, 197, 198, 200, 201, 202, 203, 204, 206, 207, 208, 209, 210, 212, 213, 214, 215, 216, 218, 219, 220, 221, 222, 224, 225, 226, 227, 228, 230, 231, 232, 233, 234, 236, 237, 238, 239, 240, 242, 243, 244, 245, 246, 248, 249, 250, 251, 252, 254, 255, 256, 257, 258, 260, 261, 262, 263, 264, 266, 267, 268, 269, 270, 271, 273, 274, 275, 276, 277, 278, 280, 281, 282, 283, 284, 285, 287, 288, 289, 290, 291, 293, 294, 295, 296, 297, 299, 300, 301, 302, 303, 305, 306, 307, 308, 309, 310, 312, 313, 314, 315, 316, 318, 319, 320, 321, 322, 323, 325, 326, 327, 328, 329, 330, 332, 333, 334, 335, 336, 337, 339, 340, 341, 342, 343, 344, 346, 347, 348, 349, 350, 351, 353, 354, 355, 356, 357, 359, 360, 361, 362, 363, 365, 366, 367, 368, 369, 371, 372, 373, 374, 375, 377, 378, 379, 380, 381, 383, 384, 385, 386, 387, 388, 390, 391, 392, 393, 394, 396, 397, 398, 399, 400, 402, 403, 404, 405, 406, 408, 409, 410, 411, 412, 414, 415, 416, 417, 418, 420, 421, 422, 423, 424, 426, 427, 428, 429, 430, 432, 433, 434, 435, 436, 438, 439, 440, 441, 442, 444, 445, 446, 447, 448, 450, 451, 452, 453, 454, 456, 457, 458, 459, 460, 462, 463, 464, 465, 466, 468, 469, 470, 471, 472, 474, 475, 476, 477, 478, 480, 481, 482, 483, 484, 486, 487, 488, 489, 490, 492, 493, 494, 495, 496, 498, 499, 500, 501, 502, 504, 505, 506, 507, 508, 510, 511, 512, 513, 514, 516, 517, 518, 519, 520, 522, 523, 524, 525, 526, 528, 529, 530, 531, 532, 534, 535, 536, 537, 538, 540, 541, 542, 543, 544, 546, 547, 548, 549, 550, 552, 553, 554, 555, 556, 558, 559, 560, 561, 562, 564, 565, 566, 567, 568, 570, 571, 572, 573, 574, 576, 577, 578, 579, 580, 582, 583, 584, 585, 586, 588, 589, 590, 591, 592, 594, 595, 596, 597, 598, 599, 601, 602, 603, 604, 605, 607, 608, 609, 610, 611, 613, 614, 615, 616, 617, 619, 620, 621, 622, 623, 625, 626, 627, 628, 629, 631, 632, 633, 634, 635, 637, 638, 639, 640, 641, 643, 644, 645, 646, 647, 649, 650, 651, 652, 653, 655, 656, 657, 658, 659, 661, 662, 663, 664, 665, 667, 668, 669, 670, 671, 673, 674, 675, 676, 677, 679, 680, 681, 682, 683, 685, 686, 687, 688, 689, 691, 692, 693, 694, 695, 697, 698, 699, 700, 701, 703, 704, 705, 706, 707, 709, 710, 711, 712, 713, 715, 716, 717, 718, 719, 721, 722, 723, 724, 725, 727, 728, 729, 730, 731, 733, 734, 735, 736, 737, 739, 740, 741, 742, 743, 745, 746, 747, 748, 749, 751, 752, 753, 754, 755, 757, 758, 759, 760, 761, 763, 764, 765, 766, 767, 769, 770, 771, 772, 773, 775, 776, 777, 778, 779, 781, 782, 783, 784, 785, 787, 788, 789, 790, 791, 793, 794, 795, 796, 797, 799, 800, 801, 802, 803, 805, 806, 807, 808, 809, 811, 812, 813, 814, 815, 817, 818, 819, 820, 821, 823, 824, 825, 826, 827, 829, 830, 831, 832, 833, 835, 836, 837, 838, 839, 841, 842, 843, 844, 845, 847, 848, 849, 850, 851, 853, 854, 855, 856, 857, 859, 860, 861, 862, 863, 865, 866, 867, 868, 869, 871, 872, 873, 874, 875, 877, 878, 879, 880, 881, 883, 884, 885, 886, 887]\n",
            "Dropped the values at index [1, 3, 5, 7, 9, 11, 13, 14, 15, 16, 17, 19, 20, 21, 22, 23, 25, 26, 27, 28, 29, 31, 32, 33, 34, 35, 37, 38, 39, 40, 41, 43, 44, 45, 46, 47, 49, 50, 51, 52, 53, 55, 56, 57, 58, 59, 61, 62, 63, 64, 65, 67, 68, 69, 70, 71, 73, 74, 75, 76, 77, 79, 80, 81, 82, 83, 85, 86, 87, 88, 89, 91, 92, 93, 94, 95, 97, 98, 99, 100, 101, 103, 104, 105, 106, 107, 109, 110, 111, 112, 113, 115, 116, 117, 118, 119, 121, 122, 123, 124, 125, 127, 128, 129, 130, 131, 133, 134, 135, 136, 137, 139, 140, 141, 142, 143, 145, 146, 147, 148, 149, 151, 152, 153, 154, 155, 157, 158, 159, 160, 161, 163, 164, 165, 166, 167, 168, 170, 171, 172, 173, 174, 176, 177, 178, 179, 180, 182, 183, 184, 185, 186, 188, 189, 190, 191, 192, 194, 195, 196, 197, 198, 200, 201, 202, 203, 204, 206, 207, 208, 209, 210, 212, 213, 214, 215, 216, 218, 219, 220, 221, 222, 224, 225, 226, 227, 228, 230, 231, 232, 233, 234, 236, 237, 238, 239, 240, 242, 243, 244, 245, 246, 248, 249, 250, 251, 252, 254, 255, 256, 257, 258, 260, 261, 262, 263, 264, 266, 267, 268, 269, 270, 271, 273, 274, 275, 276, 277, 278, 280, 281, 282, 283, 284, 285, 287, 288, 289, 290, 291, 293, 294, 295, 296, 297, 299, 300, 301, 302, 303, 305, 306, 307, 308, 309, 310, 312, 313, 314, 315, 316, 318, 319, 320, 321, 322, 323, 325, 326, 327, 328, 329, 330, 332, 333, 334, 335, 336, 337, 339, 340, 341, 342, 343, 344, 346, 347, 348, 349, 350, 351, 353, 354, 355, 356, 357, 359, 360, 361, 362, 363, 365, 366, 367, 368, 369, 371, 372, 373, 374, 375, 377, 378, 379, 380, 381, 383, 384, 385, 386, 387, 388, 390, 391, 392, 393, 394, 396, 397, 398, 399, 400, 402, 403, 404, 405, 406, 408, 409, 410, 411, 412, 414, 415, 416, 417, 418, 420, 421, 422, 423, 424, 426, 427, 428, 429, 430, 432, 433, 434, 435, 436, 438, 439, 440, 441, 442, 444, 445, 446, 447, 448, 450, 451, 452, 453, 454, 456, 457, 458, 459, 460, 462, 463, 464, 465, 466, 468, 469, 470, 471, 472, 474, 475, 476, 477, 478, 480, 481, 482, 483, 484, 486, 487, 488, 489, 490, 492, 493, 494, 495, 496, 498, 499, 500, 501, 502, 504, 505, 506, 507, 508, 510, 511, 512, 513, 514, 516, 517, 518, 519, 520, 522, 523, 524, 525, 526, 528, 529, 530, 531, 532, 534, 535, 536, 537, 538, 540, 541, 542, 543, 544, 546, 547, 548, 549, 550, 552, 553, 554, 555, 556, 558, 559, 560, 561, 562, 564, 565, 566, 567, 568, 570, 571, 572, 573, 574, 576, 577, 578, 579, 580, 582, 583, 584, 585, 586, 588, 589, 590, 591, 592, 594, 595, 596, 597, 598, 599, 601, 602, 603, 604, 605, 607, 608, 609, 610, 611, 613, 614, 615, 616, 617, 619, 620, 621, 622, 623, 625, 626, 627, 628, 629, 631, 632, 633, 634, 635, 637, 638, 639, 640, 641, 643, 644, 645, 646, 647, 649, 650, 651, 652, 653, 655, 656, 657, 658, 659, 661, 662, 663, 664, 665, 667, 668, 669, 670, 671, 673, 674, 675, 676, 677, 679, 680, 681, 682, 683, 685, 686, 687, 688, 689, 691, 692, 693, 694, 695, 697, 698, 699, 700, 701, 703, 704, 705, 706, 707, 709, 710, 711, 712, 713, 715, 716, 717, 718, 719, 721, 722, 723, 724, 725, 727, 728, 729, 730, 731, 733, 734, 735, 736, 737, 739, 740, 741, 742, 743, 745, 746, 747, 748, 749, 751, 752, 753, 754, 755, 757, 758, 759, 760, 761, 763, 764, 765, 766, 767, 769, 770, 771, 772, 773, 775, 776, 777, 778, 779, 781, 782, 783, 784, 785, 787, 788, 789, 790, 791, 793, 794, 795, 796, 797, 799, 800, 801, 802, 803, 805, 806, 807, 808, 809, 811, 812, 813, 814, 815, 817, 818, 819, 820, 821, 823, 824, 825, 826, 827, 829, 830, 831, 832, 833, 835, 836, 837, 838, 839, 841, 842, 843, 844, 845, 847, 848, 849, 850, 851, 853, 854, 855, 856, 857, 859, 860, 861, 862, 863, 865, 866, 867, 868, 869, 871, 872, 873, 874, 875, 877, 878, 879, 880, 881, 883, 884, 885, 886, 887]\n"
          ]
        },
        {
          "output_type": "stream",
          "name": "stderr",
          "text": [
            "\r  6%|▋         | 8/128 [00:08<02:24,  1.21s/it]"
          ]
        },
        {
          "output_type": "stream",
          "name": "stdout",
          "text": [
            "Dropped the values at index [1, 3, 5, 7, 9, 11, 13, 15, 17, 19, 21, 23, 25, 27, 29, 31, 33, 35, 37, 39, 41, 43, 45, 47, 49, 51, 53, 55, 57, 59, 61, 63, 65, 67, 69, 71, 73, 75, 77, 79, 81, 83, 85, 87, 89, 91, 93, 95, 97, 99, 101, 103, 105, 107, 109, 111, 113, 115, 117, 119, 121, 123, 125, 127, 129, 131, 133, 135, 137, 139, 141, 143, 145, 147, 149, 151, 153, 155, 157, 159, 161, 163, 165, 167, 169, 171, 173, 175, 177, 179, 181, 183, 185, 187, 189, 191, 193, 195, 197, 199, 201, 203, 205, 207, 209, 211, 213, 215, 217, 219, 221, 223, 225, 227, 229, 231, 233, 235, 237, 239]\n",
            "Dropped the values at index [1, 3, 5, 7, 9, 11, 13, 15, 17, 19, 21, 23, 25, 27, 29, 31, 33, 35, 37, 39, 41, 43, 45, 47, 49, 51, 53, 55, 57, 59, 61, 63, 65, 67, 69, 71, 73, 75, 77, 79, 81, 83, 85, 87, 89, 91, 93, 95, 97, 99, 101, 103, 105, 107, 109, 111, 113, 115, 117, 119, 121, 123, 125, 127, 129, 131, 133, 135, 137, 139, 141, 143, 145, 147, 149, 151, 153, 155, 157, 159, 161, 163, 165, 167, 169, 171, 173, 175, 177, 179, 181, 183, 185, 187, 189, 191, 193, 195, 197, 199, 201, 203, 205, 207, 209, 211, 213, 215, 217, 219, 221, 223, 225, 227, 229, 231, 233, 235, 237, 239]\n",
            "Dropped the values at index [1, 3, 5, 7, 9, 11, 13, 15, 17, 19, 21, 23, 25, 27, 29, 31, 33, 35, 37, 39, 41, 43, 45, 47, 49, 51, 53, 55, 57, 59, 61, 63, 65, 67, 69, 71, 73, 75, 77, 79, 81, 83, 85, 87, 89, 91, 93, 95, 97, 99, 101, 103, 105, 107, 109, 111, 113, 115, 117, 119, 121, 123, 125, 127, 129, 131, 133, 135, 137, 139, 141, 143, 145, 147, 149, 151, 153, 155, 157, 159, 161, 163, 165, 167, 169, 171, 173, 175, 177, 179, 181, 183, 185, 187, 189, 191, 193, 195, 197, 199, 201, 203, 205, 207, 209, 211, 213, 215, 217, 219, 221, 223, 225, 227, 229, 231, 233, 235, 237, 239]\n"
          ]
        },
        {
          "output_type": "stream",
          "name": "stderr",
          "text": [
            "\r  7%|▋         | 9/128 [00:09<02:24,  1.21s/it]"
          ]
        },
        {
          "output_type": "stream",
          "name": "stdout",
          "text": [
            "Dropped the values at index [1, 2, 3, 5, 6, 7, 9, 10, 11, 13, 14, 15, 17, 18, 19, 21, 22, 23, 25, 26, 27, 29, 30, 31, 33, 34, 35, 37, 38, 39, 41, 42, 43, 45, 46, 47, 49, 50, 51, 53, 54, 55, 57, 58, 59, 61, 62, 63, 65, 66, 67, 69, 70, 71, 73, 74, 75, 77, 78, 79, 81, 82, 83, 85, 86, 87, 89, 90, 91, 93, 94, 95, 97, 98, 99, 101, 102, 103, 105, 106, 107, 109, 110, 111, 113, 114, 115, 117, 118, 119, 121, 122, 123, 125, 126, 127, 129, 130, 131, 133, 134, 135, 137, 138, 139, 141, 142, 143, 145, 146, 147, 149, 150, 151, 153, 154, 155, 157, 158, 159, 161, 162, 163, 165, 166, 167, 169, 170, 171, 173, 174, 175, 177, 178, 179, 181, 182, 183, 185, 186, 187, 189, 190, 191, 193, 194, 195, 197, 198, 199, 201, 202, 203, 205, 206, 207, 209, 210, 211, 213, 214, 215, 217, 218, 219, 221, 222, 223, 225, 226, 227, 229, 230, 231, 233, 234, 235, 237, 238, 239, 241, 242, 243, 245, 246, 247, 249, 250, 251, 253, 254, 255, 257, 258, 259, 261, 262, 263, 265, 266, 267, 269, 270, 271, 273, 274, 275, 277, 278, 279, 281, 282, 283, 285, 286, 287, 289, 290, 291, 293, 294, 295, 297, 298, 299, 301, 302, 303, 305, 306, 307, 309, 310, 311, 313, 314, 315, 317, 318, 319, 321, 322, 323, 325, 326, 327, 329, 330, 331, 333, 334, 335, 337, 338, 339, 341, 342, 343, 345, 346, 347, 349, 350, 351, 353, 354, 355, 357, 358, 359, 361, 362, 363, 365, 366, 367, 369, 370, 371, 373, 374, 375, 377, 378, 379, 381, 382, 383, 385, 386, 387, 389, 390, 391, 393, 394, 395, 397, 398, 399, 401, 402, 403, 405, 406, 407, 409, 410, 411, 413, 414, 415, 417, 418, 419, 421, 422, 423, 425, 426, 427, 429, 430, 431, 433, 434, 435, 437, 438, 439, 441, 442, 443, 445, 446, 447, 449, 450, 451, 453, 454, 455, 457, 458, 459, 461, 462, 463, 465, 466, 467, 469, 470, 471, 473, 474, 475, 477, 478, 479, 481, 482, 483, 485, 486, 487, 489, 490, 491, 493, 494, 495, 497, 498, 499, 501, 502, 503, 505, 506, 507, 509, 510, 511, 513, 514, 515, 517, 518, 519, 521, 522, 523, 525, 526, 527, 529, 530, 531, 533, 534, 535, 537, 538, 539, 541, 542, 543, 545, 546, 547, 549, 550, 551, 553, 554, 555, 557, 558, 559, 561, 562, 563, 565, 566, 567, 569, 570, 571, 573, 574, 575, 577, 578, 579, 581, 582, 583, 585, 586, 587, 589, 590, 591, 593, 594, 595, 597, 598, 599]\n",
            "Dropped the values at index [1, 2, 3, 5, 6, 7, 9, 10, 11, 13, 14, 15, 17, 18, 19, 21, 22, 23, 25, 26, 27, 29, 30, 31, 33, 34, 35, 37, 38, 39, 41, 42, 43, 45, 46, 47, 49, 50, 51, 53, 54, 55, 57, 58, 59, 61, 62, 63, 65, 66, 67, 69, 70, 71, 73, 74, 75, 77, 78, 79, 81, 82, 83, 85, 86, 87, 89, 90, 91, 93, 94, 95, 97, 98, 99, 101, 102, 103, 105, 106, 107, 109, 110, 111, 113, 114, 115, 117, 118, 119, 121, 122, 123, 125, 126, 127, 129, 130, 131, 133, 134, 135, 137, 138, 139, 141, 142, 143, 145, 146, 147, 149, 150, 151, 153, 154, 155, 157, 158, 159, 161, 162, 163, 165, 166, 167, 169, 170, 171, 173, 174, 175, 177, 178, 179, 181, 182, 183, 185, 186, 187, 189, 190, 191, 193, 194, 195, 197, 198, 199, 201, 202, 203, 205, 206, 207, 209, 210, 211, 213, 214, 215, 217, 218, 219, 221, 222, 223, 225, 226, 227, 229, 230, 231, 233, 234, 235, 237, 238, 239, 241, 242, 243, 245, 246, 247, 249, 250, 251, 253, 254, 255, 257, 258, 259, 261, 262, 263, 265, 266, 267, 269, 270, 271, 273, 274, 275, 277, 278, 279, 281, 282, 283, 285, 286, 287, 289, 290, 291, 293, 294, 295, 297, 298, 299, 301, 302, 303, 305, 306, 307, 309, 310, 311, 313, 314, 315, 317, 318, 319, 321, 322, 323, 325, 326, 327, 329, 330, 331, 333, 334, 335, 337, 338, 339, 341, 342, 343, 345, 346, 347, 349, 350, 351, 353, 354, 355, 357, 358, 359, 361, 362, 363, 365, 366, 367, 369, 370, 371, 373, 374, 375, 377, 378, 379, 381, 382, 383, 385, 386, 387, 389, 390, 391, 393, 394, 395, 397, 398, 399, 401, 402, 403, 405, 406, 407, 409, 410, 411, 413, 414, 415, 417, 418, 419, 421, 422, 423, 425, 426, 427, 429, 430, 431, 433, 434, 435, 437, 438, 439, 441, 442, 443, 445, 446, 447, 449, 450, 451, 453, 454, 455, 457, 458, 459, 461, 462, 463, 465, 466, 467, 469, 470, 471, 473, 474, 475, 477, 478, 479, 481, 482, 483, 485, 486, 487, 489, 490, 491, 493, 494, 495, 497, 498, 499, 501, 502, 503, 505, 506, 507, 509, 510, 511, 513, 514, 515, 517, 518, 519, 521, 522, 523, 525, 526, 527, 529, 530, 531, 533, 534, 535, 537, 538, 539, 541, 542, 543, 545, 546, 547, 549, 550, 551, 553, 554, 555, 557, 558, 559, 561, 562, 563, 565, 566, 567, 569, 570, 571, 573, 574, 575, 577, 578, 579, 581, 582, 583, 585, 586, 587, 589, 590, 591, 593, 594, 595, 597, 598, 599]\n",
            "Dropped the values at index [1, 2, 3, 5, 6, 7, 9, 10, 11, 13, 14, 15, 17, 18, 19, 21, 22, 23, 25, 26, 27, 29, 30, 31, 33, 34, 35, 37, 38, 39, 41, 42, 43, 45, 46, 47, 49, 50, 51, 53, 54, 55, 57, 58, 59, 61, 62, 63, 65, 66, 67, 69, 70, 71, 73, 74, 75, 77, 78, 79, 81, 82, 83, 85, 86, 87, 89, 90, 91, 93, 94, 95, 97, 98, 99, 101, 102, 103, 105, 106, 107, 109, 110, 111, 113, 114, 115, 117, 118, 119, 121, 122, 123, 125, 126, 127, 129, 130, 131, 133, 134, 135, 137, 138, 139, 141, 142, 143, 145, 146, 147, 149, 150, 151, 153, 154, 155, 157, 158, 159, 161, 162, 163, 165, 166, 167, 169, 170, 171, 173, 174, 175, 177, 178, 179, 181, 182, 183, 185, 186, 187, 189, 190, 191, 193, 194, 195, 197, 198, 199, 201, 202, 203, 205, 206, 207, 209, 210, 211, 213, 214, 215, 217, 218, 219, 221, 222, 223, 225, 226, 227, 229, 230, 231, 233, 234, 235, 237, 238, 239, 241, 242, 243, 245, 246, 247, 249, 250, 251, 253, 254, 255, 257, 258, 259, 261, 262, 263, 265, 266, 267, 269, 270, 271, 273, 274, 275, 277, 278, 279, 281, 282, 283, 285, 286, 287, 289, 290, 291, 293, 294, 295, 297, 298, 299, 301, 302, 303, 305, 306, 307, 309, 310, 311, 313, 314, 315, 317, 318, 319, 321, 322, 323, 325, 326, 327, 329, 330, 331, 333, 334, 335, 337, 338, 339, 341, 342, 343, 345, 346, 347, 349, 350, 351, 353, 354, 355, 357, 358, 359, 361, 362, 363, 365, 366, 367, 369, 370, 371, 373, 374, 375, 377, 378, 379, 381, 382, 383, 385, 386, 387, 389, 390, 391, 393, 394, 395, 397, 398, 399, 401, 402, 403, 405, 406, 407, 409, 410, 411, 413, 414, 415, 417, 418, 419, 421, 422, 423, 425, 426, 427, 429, 430, 431, 433, 434, 435, 437, 438, 439, 441, 442, 443, 445, 446, 447, 449, 450, 451, 453, 454, 455, 457, 458, 459, 461, 462, 463, 465, 466, 467, 469, 470, 471, 473, 474, 475, 477, 478, 479, 481, 482, 483, 485, 486, 487, 489, 490, 491, 493, 494, 495, 497, 498, 499, 501, 502, 503, 505, 506, 507, 509, 510, 511, 513, 514, 515, 517, 518, 519, 521, 522, 523, 525, 526, 527, 529, 530, 531, 533, 534, 535, 537, 538, 539, 541, 542, 543, 545, 546, 547, 549, 550, 551, 553, 554, 555, 557, 558, 559, 561, 562, 563, 565, 566, 567, 569, 570, 571, 573, 574, 575, 577, 578, 579, 581, 582, 583, 585, 586, 587, 589, 590, 591, 593, 594, 595, 597, 598, 599]\n"
          ]
        },
        {
          "output_type": "stream",
          "name": "stderr",
          "text": [
            "\r  8%|▊         | 10/128 [00:10<02:32,  1.29s/it]"
          ]
        },
        {
          "output_type": "stream",
          "name": "stdout",
          "text": [
            "Dropped the values at index [1, 2, 4, 5, 7, 8, 10, 11, 13, 14, 16, 17, 19, 20, 22, 23, 25, 26, 28, 29, 31, 32, 34, 35, 37, 38, 40, 41, 43, 44, 46, 47, 49, 50, 52, 53, 55, 56, 58, 59, 61, 62, 64, 65, 67, 68, 70, 71, 73, 74, 76, 77, 79, 80, 82, 83, 85, 86, 88, 89, 91, 92, 94, 95, 97, 98, 100, 101, 103, 104, 106, 107, 109, 110, 112, 113, 115, 116, 118, 119, 121, 122, 124, 125, 127, 128, 130, 131, 133, 134, 136, 137, 139, 140, 142, 143, 145, 146, 148, 149, 151, 152, 154, 155, 157, 158, 160, 161, 163, 164, 166, 167, 169, 170, 172, 173, 175, 176, 178, 179, 181, 182, 184, 185, 187, 188, 190, 191, 193, 194, 196, 197, 199, 200, 202, 203, 205, 206, 208, 209, 211, 212, 214, 215, 217, 218, 220, 221, 223, 224, 226, 227, 229, 230, 232, 233, 235, 236, 238, 239, 241, 242, 244, 245, 247, 248, 250, 251, 253, 254, 256, 257, 259, 260, 262, 263, 265, 266, 268, 269, 271, 272, 274, 275, 277, 278, 280, 281, 283, 284, 286, 287, 289, 290, 292, 293, 295, 296, 298, 299, 301, 302, 304, 305, 307, 308, 310, 311, 313, 314, 316, 317, 319, 320, 322, 323, 325, 326, 328, 329, 331, 332, 334, 335, 337, 338, 340, 341, 343, 344, 346, 347, 349, 350, 352, 353, 355, 356, 358, 359, 361, 362, 364, 365, 367, 368, 370, 371, 373, 374, 376, 377, 379, 380, 382, 383, 385, 386, 388, 389, 391, 392, 394, 395, 397, 398, 400, 401, 403, 404, 406, 407, 409, 410, 412, 413, 415, 416, 418, 419, 421, 422, 424, 425, 427, 428, 430, 431, 433, 434, 436, 437, 439, 440, 442, 443, 445, 446, 448, 449]\n",
            "Dropped the values at index [1, 2, 4, 5, 7, 8, 10, 11, 13, 14, 16, 17, 19, 20, 22, 23, 25, 26, 28, 29, 31, 32, 34, 35, 37, 38, 40, 41, 43, 44, 46, 47, 49, 50, 52, 53, 55, 56, 58, 59, 61, 62, 64, 65, 67, 68, 70, 71, 73, 74, 76, 77, 79, 80, 82, 83, 85, 86, 88, 89, 91, 92, 94, 95, 97, 98, 100, 101, 103, 104, 106, 107, 109, 110, 112, 113, 115, 116, 118, 119, 121, 122, 124, 125, 127, 128, 130, 131, 133, 134, 136, 137, 139, 140, 142, 143, 145, 146, 148, 149, 151, 152, 154, 155, 157, 158, 160, 161, 163, 164, 166, 167, 169, 170, 172, 173, 175, 176, 178, 179, 181, 182, 184, 185, 187, 188, 190, 191, 193, 194, 196, 197, 199, 200, 202, 203, 205, 206, 208, 209, 211, 212, 214, 215, 217, 218, 220, 221, 223, 224, 226, 227, 229, 230, 232, 233, 235, 236, 238, 239, 241, 242, 244, 245, 247, 248, 250, 251, 253, 254, 256, 257, 259, 260, 262, 263, 265, 266, 268, 269, 271, 272, 274, 275, 277, 278, 280, 281, 283, 284, 286, 287, 289, 290, 292, 293, 295, 296, 298, 299, 301, 302, 304, 305, 307, 308, 310, 311, 313, 314, 316, 317, 319, 320, 322, 323, 325, 326, 328, 329, 331, 332, 334, 335, 337, 338, 340, 341, 343, 344, 346, 347, 349, 350, 352, 353, 355, 356, 358, 359, 361, 362, 364, 365, 367, 368, 370, 371, 373, 374, 376, 377, 379, 380, 382, 383, 385, 386, 388, 389, 391, 392, 394, 395, 397, 398, 400, 401, 403, 404, 406, 407, 409, 410, 412, 413, 415, 416, 418, 419, 421, 422, 424, 425, 427, 428, 430, 431, 433, 434, 436, 437, 439, 440, 442, 443, 445, 446, 448, 449]\n",
            "Dropped the values at index [1, 2, 4, 5, 7, 8, 10, 11, 13, 14, 16, 17, 19, 20, 22, 23, 25, 26, 28, 29, 31, 32, 34, 35, 37, 38, 40, 41, 43, 44, 46, 47, 49, 50, 52, 53, 55, 56, 58, 59, 61, 62, 64, 65, 67, 68, 70, 71, 73, 74, 76, 77, 79, 80, 82, 83, 85, 86, 88, 89, 91, 92, 94, 95, 97, 98, 100, 101, 103, 104, 106, 107, 109, 110, 112, 113, 115, 116, 118, 119, 121, 122, 124, 125, 127, 128, 130, 131, 133, 134, 136, 137, 139, 140, 142, 143, 145, 146, 148, 149, 151, 152, 154, 155, 157, 158, 160, 161, 163, 164, 166, 167, 169, 170, 172, 173, 175, 176, 178, 179, 181, 182, 184, 185, 187, 188, 190, 191, 193, 194, 196, 197, 199, 200, 202, 203, 205, 206, 208, 209, 211, 212, 214, 215, 217, 218, 220, 221, 223, 224, 226, 227, 229, 230, 232, 233, 235, 236, 238, 239, 241, 242, 244, 245, 247, 248, 250, 251, 253, 254, 256, 257, 259, 260, 262, 263, 265, 266, 268, 269, 271, 272, 274, 275, 277, 278, 280, 281, 283, 284, 286, 287, 289, 290, 292, 293, 295, 296, 298, 299, 301, 302, 304, 305, 307, 308, 310, 311, 313, 314, 316, 317, 319, 320, 322, 323, 325, 326, 328, 329, 331, 332, 334, 335, 337, 338, 340, 341, 343, 344, 346, 347, 349, 350, 352, 353, 355, 356, 358, 359, 361, 362, 364, 365, 367, 368, 370, 371, 373, 374, 376, 377, 379, 380, 382, 383, 385, 386, 388, 389, 391, 392, 394, 395, 397, 398, 400, 401, 403, 404, 406, 407, 409, 410, 412, 413, 415, 416, 418, 419, 421, 422, 424, 425, 427, 428, 430, 431, 433, 434, 436, 437, 439, 440, 442, 443, 445, 446, 448, 449]\n"
          ]
        },
        {
          "output_type": "stream",
          "name": "stderr",
          "text": [
            "\r  9%|▊         | 11/128 [00:11<02:13,  1.14s/it]"
          ]
        },
        {
          "output_type": "stream",
          "name": "stdout",
          "text": [
            "Dropped the values at index [1, 2, 4, 5, 7, 8, 10, 11, 13, 14, 16, 17, 19, 20, 22, 23, 25, 26, 28, 29, 31, 32, 34, 35, 37, 38, 40, 41, 43, 44, 46, 47, 49, 50, 52, 53, 55, 56, 58, 59, 61, 62, 64, 65, 67, 68, 70, 71, 73, 74, 76, 77, 79, 80, 82, 83, 85, 86, 88, 89, 91, 92, 94, 95, 97, 98, 100, 101, 103, 104, 106, 107, 109, 110, 112, 113, 115, 116, 118, 119, 121, 122, 124, 125, 127, 128, 130, 131, 133, 134, 136, 137, 139, 140, 142, 143, 145, 146, 148, 149, 151, 153, 155, 156, 158, 159, 161, 162, 164, 166, 168, 169, 171, 173, 175, 177, 179, 181, 183, 185, 187, 188, 190, 192, 193, 195, 196, 198, 199, 201, 202, 204, 205, 207, 208, 210, 211, 213, 214, 216, 217, 219, 220, 222, 223, 225, 226, 228, 229, 231, 232, 234, 235, 237, 238, 240, 241, 243, 244, 246, 247, 249, 250, 252, 253, 255, 256, 258, 259, 261, 262, 264, 265, 267, 268, 270, 271, 273, 275, 276, 278, 279, 281, 282, 284, 285, 287, 288, 290, 292, 293, 295, 296, 298, 299, 301, 302, 304, 305, 307, 308, 310, 311, 313, 314, 316, 317, 319, 320, 322, 323, 325, 326, 328, 329, 331, 332, 334, 335, 337, 338, 340, 341, 343, 344, 346, 347, 349, 350, 352, 353, 355, 356, 358, 359, 361, 362, 364, 365, 367, 368, 370, 372, 374, 375, 377, 378, 380, 381, 383, 384, 386, 387, 389, 390, 392, 393, 395, 396, 398, 399, 401, 402, 404, 405, 407, 408, 410, 411, 413, 414, 416, 417, 419, 420, 422, 423, 425, 426, 428, 429, 431, 432]\n",
            "Dropped the values at index [1, 2, 4, 5, 7, 8, 10, 11, 13, 14, 16, 17, 19, 20, 22, 23, 25, 26, 28, 29, 31, 32, 34, 35, 37, 38, 40, 41, 43, 44, 46, 47, 49, 50, 52, 53, 55, 56, 58, 59, 61, 62, 64, 65, 67, 68, 70, 71, 73, 74, 76, 77, 79, 80, 82, 83, 85, 86, 88, 89, 91, 92, 94, 95, 97, 98, 100, 101, 103, 104, 106, 107, 109, 110, 112, 113, 115, 116, 118, 119, 121, 122, 124, 125, 127, 128, 130, 131, 133, 134, 136, 137, 139, 140, 142, 143, 145, 146, 148, 149, 151, 153, 155, 156, 158, 159, 161, 162, 164, 166, 168, 169, 171, 173, 175, 177, 179, 181, 183, 185, 187, 188, 190, 192, 193, 195, 196, 198, 199, 201, 202, 204, 205, 207, 208, 210, 211, 213, 214, 216, 217, 219, 220, 222, 223, 225, 226, 228, 229, 231, 232, 234, 235, 237, 238, 240, 241, 243, 244, 246, 247, 249, 250, 252, 253, 255, 256, 258, 259, 261, 262, 264, 265, 267, 268, 270, 271, 273, 275, 276, 278, 279, 281, 282, 284, 285, 287, 288, 290, 292, 293, 295, 296, 298, 299, 301, 302, 304, 305, 307, 308, 310, 311, 313, 314, 316, 317, 319, 320, 322, 323, 325, 326, 328, 329, 331, 332, 334, 335, 337, 338, 340, 341, 343, 344, 346, 347, 349, 350, 352, 353, 355, 356, 358, 359, 361, 362, 364, 365, 367, 368, 370, 372, 374, 375, 377, 378, 380, 381, 383, 384, 386, 387, 389, 390, 392, 393, 395, 396, 398, 399, 401, 402, 404, 405, 407, 408, 410, 411, 413, 414, 416, 417, 419, 420, 422, 423, 425, 426, 428, 429, 431, 432]\n",
            "Dropped the values at index [1, 2, 4, 5, 7, 8, 10, 11, 13, 14, 16, 17, 19, 20, 22, 23, 25, 26, 28, 29, 31, 32, 34, 35, 37, 38, 40, 41, 43, 44, 46, 47, 49, 50, 52, 53, 55, 56, 58, 59, 61, 62, 64, 65, 67, 68, 70, 71, 73, 74, 76, 77, 79, 80, 82, 83, 85, 86, 88, 89, 91, 92, 94, 95, 97, 98, 100, 101, 103, 104, 106, 107, 109, 110, 112, 113, 115, 116, 118, 119, 121, 122, 124, 125, 127, 128, 130, 131, 133, 134, 136, 137, 139, 140, 142, 143, 145, 146, 148, 149, 151, 153, 155, 156, 158, 159, 161, 162, 164, 166, 168, 169, 171, 173, 175, 177, 179, 181, 183, 185, 187, 188, 190, 192, 193, 195, 196, 198, 199, 201, 202, 204, 205, 207, 208, 210, 211, 213, 214, 216, 217, 219, 220, 222, 223, 225, 226, 228, 229, 231, 232, 234, 235, 237, 238, 240, 241, 243, 244, 246, 247, 249, 250, 252, 253, 255, 256, 258, 259, 261, 262, 264, 265, 267, 268, 270, 271, 273, 275, 276, 278, 279, 281, 282, 284, 285, 287, 288, 290, 292, 293, 295, 296, 298, 299, 301, 302, 304, 305, 307, 308, 310, 311, 313, 314, 316, 317, 319, 320, 322, 323, 325, 326, 328, 329, 331, 332, 334, 335, 337, 338, 340, 341, 343, 344, 346, 347, 349, 350, 352, 353, 355, 356, 358, 359, 361, 362, 364, 365, 367, 368, 370, 372, 374, 375, 377, 378, 380, 381, 383, 384, 386, 387, 389, 390, 392, 393, 395, 396, 398, 399, 401, 402, 404, 405, 407, 408, 410, 411, 413, 414, 416, 417, 419, 420, 422, 423, 425, 426, 428, 429, 431, 432]\n"
          ]
        },
        {
          "output_type": "stream",
          "name": "stderr",
          "text": [
            "\r  9%|▉         | 12/128 [00:12<01:59,  1.03s/it]"
          ]
        },
        {
          "output_type": "stream",
          "name": "stdout",
          "text": [
            "Dropped the values at index []\n",
            "Dropped the values at index []\n",
            "Dropped the values at index []\n"
          ]
        },
        {
          "output_type": "stream",
          "name": "stderr",
          "text": [
            "\r 10%|█         | 13/128 [00:13<01:45,  1.09it/s]"
          ]
        },
        {
          "output_type": "stream",
          "name": "stdout",
          "text": [
            "Dropped the values at index []\n",
            "Dropped the values at index []\n",
            "Dropped the values at index []\n"
          ]
        },
        {
          "output_type": "stream",
          "name": "stderr",
          "text": [
            "\r 11%|█         | 14/128 [00:14<01:56,  1.02s/it]"
          ]
        },
        {
          "output_type": "stream",
          "name": "stdout",
          "text": [
            "Dropped the values at index [1, 3, 5, 7, 9, 11, 13, 15, 17, 19, 21, 23, 25, 27, 29, 31, 33, 35, 37, 39, 41, 43, 45, 47, 49, 51, 53, 55, 57, 59, 61, 63, 65, 67, 69, 71, 73, 75, 77, 79, 81, 83, 85, 87, 89, 91, 93, 95, 97, 99, 101, 103, 105, 107, 109, 111, 113, 115, 117, 119, 121, 123, 125, 127, 129, 131, 133, 135, 137, 139, 141, 143, 145, 147, 149, 151, 153, 155, 157, 159, 161, 163, 165, 167, 169, 171, 173, 175, 177, 179, 181, 183, 185, 187, 189, 191, 193, 195, 197, 199, 201, 203, 205, 207, 209, 211, 213, 215, 217, 219, 221, 223, 225, 227, 229, 231, 233, 235, 237, 239, 241, 243, 245, 247, 249, 251, 253, 255, 257, 258, 260, 262, 264, 266, 268, 270, 272, 274, 276, 278, 280, 283, 285, 287, 289, 291, 293, 295, 297, 299]\n",
            "Dropped the values at index [1, 3, 5, 7, 9, 11, 13, 15, 17, 19, 21, 23, 25, 27, 29, 31, 33, 35, 37, 39, 41, 43, 45, 47, 49, 51, 53, 55, 57, 59, 61, 63, 65, 67, 69, 71, 73, 75, 77, 79, 81, 83, 85, 87, 89, 91, 93, 95, 97, 99, 101, 103, 105, 107, 109, 111, 113, 115, 117, 119, 121, 123, 125, 127, 129, 131, 133, 135, 137, 139, 141, 143, 145, 147, 149, 151, 153, 155, 157, 159, 161, 163, 165, 167, 169, 171, 173, 175, 177, 179, 181, 183, 185, 187, 189, 191, 193, 195, 197, 199, 201, 203, 205, 207, 209, 211, 213, 215, 217, 219, 221, 223, 225, 227, 229, 231, 233, 235, 237, 239, 241, 243, 245, 247, 249, 251, 253, 255, 257, 258, 260, 262, 264, 266, 268, 270, 272, 274, 276, 278, 280, 283, 285, 287, 289, 291, 293, 295, 297, 299]\n",
            "Dropped the values at index [1, 3, 5, 7, 9, 11, 13, 15, 17, 19, 21, 23, 25, 27, 29, 31, 33, 35, 37, 39, 41, 43, 45, 47, 49, 51, 53, 55, 57, 59, 61, 63, 65, 67, 69, 71, 73, 75, 77, 79, 81, 83, 85, 87, 89, 91, 93, 95, 97, 99, 101, 103, 105, 107, 109, 111, 113, 115, 117, 119, 121, 123, 125, 127, 129, 131, 133, 135, 137, 139, 141, 143, 145, 147, 149, 151, 153, 155, 157, 159, 161, 163, 165, 167, 169, 171, 173, 175, 177, 179, 181, 183, 185, 187, 189, 191, 193, 195, 197, 199, 201, 203, 205, 207, 209, 211, 213, 215, 217, 219, 221, 223, 225, 227, 229, 231, 233, 235, 237, 239, 241, 243, 245, 247, 249, 251, 253, 255, 257, 258, 260, 262, 264, 266, 268, 270, 272, 274, 276, 278, 280, 283, 285, 287, 289, 291, 293, 295, 297, 299]\n"
          ]
        },
        {
          "output_type": "stream",
          "name": "stderr",
          "text": [
            "\r 12%|█▏        | 15/128 [00:15<01:44,  1.08it/s]"
          ]
        },
        {
          "output_type": "stream",
          "name": "stdout",
          "text": [
            "Dropped the values at index [1, 2, 4, 5, 7, 8, 10, 11, 13, 14, 16, 17, 19, 20, 22, 23, 25, 26, 28, 29, 31, 32, 34, 35, 37, 38, 40, 41, 43, 44, 46, 47, 49, 50, 52, 53, 55, 56, 58, 59, 61, 62, 64, 65, 67, 68, 70, 71, 73, 74, 76, 77, 79, 80, 82, 83, 85, 86, 88, 89, 91, 92, 94, 95, 97, 98, 100, 101, 103, 104, 106, 107, 109, 110, 112, 113, 115, 116, 118, 119, 121, 122, 124, 125, 127, 128, 130, 131, 133, 134, 136, 137, 139, 140, 142, 143, 145, 146, 148, 149, 151, 152, 154, 155, 157, 158, 160, 161, 163, 164, 166, 167, 169, 170, 172, 173, 175, 176, 178, 179, 181, 182, 184, 185, 187, 188, 190, 191, 193, 194, 196, 197, 199, 200, 202, 203, 205, 206, 208, 209, 211, 212, 214, 215, 217, 218, 220, 221, 223, 224, 226, 227, 229, 230, 232, 233, 235, 236, 238, 239, 241, 242, 244, 245, 247, 248, 250, 251, 253, 254, 256, 257, 259, 260, 262, 263, 265, 266, 268, 269, 271, 272, 274, 275, 277, 278, 280, 281, 283, 284, 286, 287, 289, 290, 292, 293, 295, 296, 298, 299, 301, 302, 304, 305, 307, 308, 310, 311, 313, 314, 316, 317, 319, 320, 322, 323, 325, 326, 328, 329, 331, 332, 334, 335, 337, 338, 340, 341, 343, 344, 346, 347, 349, 350, 352, 353, 355, 356, 358, 359]\n",
            "Dropped the values at index [1, 2, 4, 5, 7, 8, 10, 11, 13, 14, 16, 17, 19, 20, 22, 23, 25, 26, 28, 29, 31, 32, 34, 35, 37, 38, 40, 41, 43, 44, 46, 47, 49, 50, 52, 53, 55, 56, 58, 59, 61, 62, 64, 65, 67, 68, 70, 71, 73, 74, 76, 77, 79, 80, 82, 83, 85, 86, 88, 89, 91, 92, 94, 95, 97, 98, 100, 101, 103, 104, 106, 107, 109, 110, 112, 113, 115, 116, 118, 119, 121, 122, 124, 125, 127, 128, 130, 131, 133, 134, 136, 137, 139, 140, 142, 143, 145, 146, 148, 149, 151, 152, 154, 155, 157, 158, 160, 161, 163, 164, 166, 167, 169, 170, 172, 173, 175, 176, 178, 179, 181, 182, 184, 185, 187, 188, 190, 191, 193, 194, 196, 197, 199, 200, 202, 203, 205, 206, 208, 209, 211, 212, 214, 215, 217, 218, 220, 221, 223, 224, 226, 227, 229, 230, 232, 233, 235, 236, 238, 239, 241, 242, 244, 245, 247, 248, 250, 251, 253, 254, 256, 257, 259, 260, 262, 263, 265, 266, 268, 269, 271, 272, 274, 275, 277, 278, 280, 281, 283, 284, 286, 287, 289, 290, 292, 293, 295, 296, 298, 299, 301, 302, 304, 305, 307, 308, 310, 311, 313, 314, 316, 317, 319, 320, 322, 323, 325, 326, 328, 329, 331, 332, 334, 335, 337, 338, 340, 341, 343, 344, 346, 347, 349, 350, 352, 353, 355, 356, 358, 359]\n",
            "Dropped the values at index [1, 2, 4, 5, 7, 8, 10, 11, 13, 14, 16, 17, 19, 20, 22, 23, 25, 26, 28, 29, 31, 32, 34, 35, 37, 38, 40, 41, 43, 44, 46, 47, 49, 50, 52, 53, 55, 56, 58, 59, 61, 62, 64, 65, 67, 68, 70, 71, 73, 74, 76, 77, 79, 80, 82, 83, 85, 86, 88, 89, 91, 92, 94, 95, 97, 98, 100, 101, 103, 104, 106, 107, 109, 110, 112, 113, 115, 116, 118, 119, 121, 122, 124, 125, 127, 128, 130, 131, 133, 134, 136, 137, 139, 140, 142, 143, 145, 146, 148, 149, 151, 152, 154, 155, 157, 158, 160, 161, 163, 164, 166, 167, 169, 170, 172, 173, 175, 176, 178, 179, 181, 182, 184, 185, 187, 188, 190, 191, 193, 194, 196, 197, 199, 200, 202, 203, 205, 206, 208, 209, 211, 212, 214, 215, 217, 218, 220, 221, 223, 224, 226, 227, 229, 230, 232, 233, 235, 236, 238, 239, 241, 242, 244, 245, 247, 248, 250, 251, 253, 254, 256, 257, 259, 260, 262, 263, 265, 266, 268, 269, 271, 272, 274, 275, 277, 278, 280, 281, 283, 284, 286, 287, 289, 290, 292, 293, 295, 296, 298, 299, 301, 302, 304, 305, 307, 308, 310, 311, 313, 314, 316, 317, 319, 320, 322, 323, 325, 326, 328, 329, 331, 332, 334, 335, 337, 338, 340, 341, 343, 344, 346, 347, 349, 350, 352, 353, 355, 356, 358, 359]\n"
          ]
        },
        {
          "output_type": "stream",
          "name": "stderr",
          "text": [
            "\r 12%|█▏        | 15/128 [00:15<01:58,  1.05s/it]\n"
          ]
        },
        {
          "output_type": "error",
          "ename": "SystemError",
          "evalue": "ignored",
          "traceback": [
            "\u001b[0;31m---------------------------------------------------------------------------\u001b[0m",
            "\u001b[0;31mKeyboardInterrupt\u001b[0m                         Traceback (most recent call last)",
            "\u001b[0;31mKeyboardInterrupt\u001b[0m: ",
            "\nThe above exception was the direct cause of the following exception:\n",
            "\u001b[0;31mSystemError\u001b[0m                               Traceback (most recent call last)",
            "\u001b[0;31mSystemError\u001b[0m: <built-in method write of _io.BufferedWriter object at 0x7f8373db4650> returned a result with an error set",
            "\nThe above exception was the direct cause of the following exception:\n",
            "\u001b[0;31mSystemError\u001b[0m                               Traceback (most recent call last)",
            "\u001b[0;31mSystemError\u001b[0m: <built-in method write of _io.BufferedWriter object at 0x7f8373db4650> returned a result with an error set",
            "\nThe above exception was the direct cause of the following exception:\n",
            "\u001b[0;31mSystemError\u001b[0m                               Traceback (most recent call last)",
            "\u001b[0;31mSystemError\u001b[0m: <built-in method write of _io.FileIO object at 0x7f837342b0f0> returned a result with an error set",
            "\nThe above exception was the direct cause of the following exception:\n",
            "\u001b[0;31mSystemError\u001b[0m                               Traceback (most recent call last)",
            "\u001b[0;31mSystemError\u001b[0m: <built-in method write of _io.BufferedWriter object at 0x7f8373db4650> returned a result with an error set",
            "\nThe above exception was the direct cause of the following exception:\n",
            "\u001b[0;31mSystemError\u001b[0m                               Traceback (most recent call last)",
            "\u001b[0;31mSystemError\u001b[0m: <built-in method write of _io.BufferedWriter object at 0x7f8373db4650> returned a result with an error set",
            "\nThe above exception was the direct cause of the following exception:\n",
            "\u001b[0;31mSystemError\u001b[0m                               Traceback (most recent call last)",
            "\u001b[0;31mSystemError\u001b[0m: <built-in method write of _io.FileIO object at 0x7f837342b0f0> returned a result with an error set",
            "\nThe above exception was the direct cause of the following exception:\n",
            "\u001b[0;31mSystemError\u001b[0m                               Traceback (most recent call last)",
            "\u001b[0;31mSystemError\u001b[0m: <built-in method write of _io.BufferedWriter object at 0x7f8373db4650> returned a result with an error set",
            "\nThe above exception was the direct cause of the following exception:\n",
            "\u001b[0;31mSystemError\u001b[0m                               Traceback (most recent call last)",
            "\u001b[0;31mSystemError\u001b[0m: <built-in method write of _io.BufferedWriter object at 0x7f8373db4650> returned a result with an error set",
            "\nThe above exception was the direct cause of the following exception:\n",
            "\u001b[0;31mSystemError\u001b[0m                               Traceback (most recent call last)",
            "\u001b[0;31mSystemError\u001b[0m: <built-in method write of _io.FileIO object at 0x7f837342b0f0> returned a result with an error set",
            "\nThe above exception was the direct cause of the following exception:\n",
            "\u001b[0;31mSystemError\u001b[0m                               Traceback (most recent call last)",
            "\u001b[0;31mSystemError\u001b[0m: <built-in method write of _io.BufferedWriter object at 0x7f8373db4650> returned a result with an error set",
            "\nThe above exception was the direct cause of the following exception:\n",
            "\u001b[0;31mSystemError\u001b[0m                               Traceback (most recent call last)",
            "\u001b[0;31mSystemError\u001b[0m: <built-in method write of _io.BufferedWriter object at 0x7f8373db4650> returned a result with an error set",
            "\nThe above exception was the direct cause of the following exception:\n",
            "\u001b[0;31mSystemError\u001b[0m                               Traceback (most recent call last)",
            "\u001b[0;32m<ipython-input-12-867abca88173>\u001b[0m in \u001b[0;36m<module>\u001b[0;34m()\u001b[0m\n\u001b[1;32m     64\u001b[0m   \u001b[0;31m# ax.get_yaxis().set_visible(False)\u001b[0m\u001b[0;34m\u001b[0m\u001b[0;34m\u001b[0m\u001b[0;34m\u001b[0m\u001b[0m\n\u001b[1;32m     65\u001b[0m   \u001b[0mplt\u001b[0m\u001b[0;34m.\u001b[0m\u001b[0mshow\u001b[0m\u001b[0;34m\u001b[0m\u001b[0;34m\u001b[0m\u001b[0m\n\u001b[0;32m---> 66\u001b[0;31m   \u001b[0mplt\u001b[0m\u001b[0;34m.\u001b[0m\u001b[0msavefig\u001b[0m\u001b[0;34m(\u001b[0m\u001b[0mimage_path\u001b[0m\u001b[0;34m+\u001b[0m \u001b[0mstr\u001b[0m\u001b[0;34m(\u001b[0m\u001b[0mz\u001b[0m\u001b[0;34m)\u001b[0m \u001b[0;34m+\u001b[0m\u001b[0;34m'.png'\u001b[0m\u001b[0;34m,\u001b[0m \u001b[0mdpi\u001b[0m\u001b[0;34m=\u001b[0m\u001b[0;36m300\u001b[0m\u001b[0;34m,\u001b[0m \u001b[0mbbox_inches\u001b[0m\u001b[0;34m=\u001b[0m\u001b[0;34m'tight'\u001b[0m\u001b[0;34m)\u001b[0m\u001b[0;34m\u001b[0m\u001b[0;34m\u001b[0m\u001b[0m\n\u001b[0m\u001b[1;32m     67\u001b[0m   \u001b[0mplt\u001b[0m\u001b[0;34m.\u001b[0m\u001b[0mclf\u001b[0m\u001b[0;34m(\u001b[0m\u001b[0;34m)\u001b[0m\u001b[0;34m\u001b[0m\u001b[0;34m\u001b[0m\u001b[0m\n",
            "\u001b[0;32m/usr/local/lib/python3.7/dist-packages/matplotlib/pyplot.py\u001b[0m in \u001b[0;36msavefig\u001b[0;34m(*args, **kwargs)\u001b[0m\n\u001b[1;32m    721\u001b[0m \u001b[0;32mdef\u001b[0m \u001b[0msavefig\u001b[0m\u001b[0;34m(\u001b[0m\u001b[0;34m*\u001b[0m\u001b[0margs\u001b[0m\u001b[0;34m,\u001b[0m \u001b[0;34m**\u001b[0m\u001b[0mkwargs\u001b[0m\u001b[0;34m)\u001b[0m\u001b[0;34m:\u001b[0m\u001b[0;34m\u001b[0m\u001b[0;34m\u001b[0m\u001b[0m\n\u001b[1;32m    722\u001b[0m     \u001b[0mfig\u001b[0m \u001b[0;34m=\u001b[0m \u001b[0mgcf\u001b[0m\u001b[0;34m(\u001b[0m\u001b[0;34m)\u001b[0m\u001b[0;34m\u001b[0m\u001b[0;34m\u001b[0m\u001b[0m\n\u001b[0;32m--> 723\u001b[0;31m     \u001b[0mres\u001b[0m \u001b[0;34m=\u001b[0m \u001b[0mfig\u001b[0m\u001b[0;34m.\u001b[0m\u001b[0msavefig\u001b[0m\u001b[0;34m(\u001b[0m\u001b[0;34m*\u001b[0m\u001b[0margs\u001b[0m\u001b[0;34m,\u001b[0m \u001b[0;34m**\u001b[0m\u001b[0mkwargs\u001b[0m\u001b[0;34m)\u001b[0m\u001b[0;34m\u001b[0m\u001b[0;34m\u001b[0m\u001b[0m\n\u001b[0m\u001b[1;32m    724\u001b[0m     \u001b[0mfig\u001b[0m\u001b[0;34m.\u001b[0m\u001b[0mcanvas\u001b[0m\u001b[0;34m.\u001b[0m\u001b[0mdraw_idle\u001b[0m\u001b[0;34m(\u001b[0m\u001b[0;34m)\u001b[0m   \u001b[0;31m# need this if 'transparent=True' to reset colors\u001b[0m\u001b[0;34m\u001b[0m\u001b[0;34m\u001b[0m\u001b[0m\n\u001b[1;32m    725\u001b[0m     \u001b[0;32mreturn\u001b[0m \u001b[0mres\u001b[0m\u001b[0;34m\u001b[0m\u001b[0;34m\u001b[0m\u001b[0m\n",
            "\u001b[0;32m/usr/local/lib/python3.7/dist-packages/matplotlib/figure.py\u001b[0m in \u001b[0;36msavefig\u001b[0;34m(self, fname, transparent, **kwargs)\u001b[0m\n\u001b[1;32m   2201\u001b[0m             \u001b[0mself\u001b[0m\u001b[0;34m.\u001b[0m\u001b[0mpatch\u001b[0m\u001b[0;34m.\u001b[0m\u001b[0mset_visible\u001b[0m\u001b[0;34m(\u001b[0m\u001b[0mframeon\u001b[0m\u001b[0;34m)\u001b[0m\u001b[0;34m\u001b[0m\u001b[0;34m\u001b[0m\u001b[0m\n\u001b[1;32m   2202\u001b[0m \u001b[0;34m\u001b[0m\u001b[0m\n\u001b[0;32m-> 2203\u001b[0;31m         \u001b[0mself\u001b[0m\u001b[0;34m.\u001b[0m\u001b[0mcanvas\u001b[0m\u001b[0;34m.\u001b[0m\u001b[0mprint_figure\u001b[0m\u001b[0;34m(\u001b[0m\u001b[0mfname\u001b[0m\u001b[0;34m,\u001b[0m \u001b[0;34m**\u001b[0m\u001b[0mkwargs\u001b[0m\u001b[0;34m)\u001b[0m\u001b[0;34m\u001b[0m\u001b[0;34m\u001b[0m\u001b[0m\n\u001b[0m\u001b[1;32m   2204\u001b[0m \u001b[0;34m\u001b[0m\u001b[0m\n\u001b[1;32m   2205\u001b[0m         \u001b[0;32mif\u001b[0m \u001b[0mframeon\u001b[0m\u001b[0;34m:\u001b[0m\u001b[0;34m\u001b[0m\u001b[0;34m\u001b[0m\u001b[0m\n",
            "\u001b[0;32m/usr/local/lib/python3.7/dist-packages/matplotlib/backend_bases.py\u001b[0m in \u001b[0;36mprint_figure\u001b[0;34m(self, filename, dpi, facecolor, edgecolor, orientation, format, bbox_inches, **kwargs)\u001b[0m\n\u001b[1;32m   2124\u001b[0m                     \u001b[0morientation\u001b[0m\u001b[0;34m=\u001b[0m\u001b[0morientation\u001b[0m\u001b[0;34m,\u001b[0m\u001b[0;34m\u001b[0m\u001b[0;34m\u001b[0m\u001b[0m\n\u001b[1;32m   2125\u001b[0m                     \u001b[0mbbox_inches_restore\u001b[0m\u001b[0;34m=\u001b[0m\u001b[0m_bbox_inches_restore\u001b[0m\u001b[0;34m,\u001b[0m\u001b[0;34m\u001b[0m\u001b[0;34m\u001b[0m\u001b[0m\n\u001b[0;32m-> 2126\u001b[0;31m                     **kwargs)\n\u001b[0m\u001b[1;32m   2127\u001b[0m             \u001b[0;32mfinally\u001b[0m\u001b[0;34m:\u001b[0m\u001b[0;34m\u001b[0m\u001b[0;34m\u001b[0m\u001b[0m\n\u001b[1;32m   2128\u001b[0m                 \u001b[0;32mif\u001b[0m \u001b[0mbbox_inches\u001b[0m \u001b[0;32mand\u001b[0m \u001b[0mrestore_bbox\u001b[0m\u001b[0;34m:\u001b[0m\u001b[0;34m\u001b[0m\u001b[0;34m\u001b[0m\u001b[0m\n",
            "\u001b[0;32m/usr/local/lib/python3.7/dist-packages/matplotlib/backends/backend_agg.py\u001b[0m in \u001b[0;36mprint_png\u001b[0;34m(self, filename_or_obj, metadata, pil_kwargs, *args, **kwargs)\u001b[0m\n\u001b[1;32m    535\u001b[0m             \u001b[0;32mwith\u001b[0m \u001b[0mcbook\u001b[0m\u001b[0;34m.\u001b[0m\u001b[0mopen_file_cm\u001b[0m\u001b[0;34m(\u001b[0m\u001b[0mfilename_or_obj\u001b[0m\u001b[0;34m,\u001b[0m \u001b[0;34m\"wb\"\u001b[0m\u001b[0;34m)\u001b[0m \u001b[0;32mas\u001b[0m \u001b[0mfh\u001b[0m\u001b[0;34m:\u001b[0m\u001b[0;34m\u001b[0m\u001b[0;34m\u001b[0m\u001b[0m\n\u001b[1;32m    536\u001b[0m                 _png.write_png(renderer._renderer, fh, self.figure.dpi,\n\u001b[0;32m--> 537\u001b[0;31m                                metadata={**default_metadata, **metadata})\n\u001b[0m\u001b[1;32m    538\u001b[0m \u001b[0;34m\u001b[0m\u001b[0m\n\u001b[1;32m    539\u001b[0m     \u001b[0;32mdef\u001b[0m \u001b[0mprint_to_buffer\u001b[0m\u001b[0;34m(\u001b[0m\u001b[0mself\u001b[0m\u001b[0;34m)\u001b[0m\u001b[0;34m:\u001b[0m\u001b[0;34m\u001b[0m\u001b[0;34m\u001b[0m\u001b[0m\n",
            "\u001b[0;31mSystemError\u001b[0m: <built-in method write of _io.BufferedWriter object at 0x7f8373db4650> returned a result with an error set"
          ]
        },
        {
          "output_type": "display_data",
          "data": {
            "text/plain": [
              "<Figure size 360x360 with 1 Axes>"
            ],
            "image/png": "[encoded data removed]"
          },
          "metadata": {
            "needs_background": "light"
          }
        }
      ],
      "source": [
        "path = \"/content/drive/MyDrive/GSOC_CSV/Sequential/\"\n",
        "image_path = \"/content/Sequential/\"\n",
        "list_files = os.listdir(path)\n",
        "for z in tqdm(range(len(list_files))):\n",
        "  name = list_files[z]\n",
        "  df = csv2df(path+name)\n",
        "  xs = []\n",
        "  ys = []\n",
        "  for index,row in df.iterrows():\n",
        "    x,y = row['Left_Hand']\n",
        "    xs.append(x)\n",
        "    y = abs(1-y)\n",
        "    ys.append(y)\n",
        "  \n",
        "  xr = []\n",
        "  yr = []\n",
        "  for index,row in df.iterrows():\n",
        "    x,y = row['Right_Hand']\n",
        "    xr.append(x)\n",
        "    y = abs(1-y)\n",
        "    yr.append(y)\n",
        "\n",
        "  index = []\n",
        "  for i in range(len(xs)):\n",
        "    if xs[i] == 0:\n",
        "      index.append(i)\n",
        "    if ys[i] ==0:\n",
        "      if i not in index:\n",
        "        index.append(i)\n",
        "  index.sort(reverse=True)\n",
        "  for i in index:\n",
        "    xs.pop(i)\n",
        "    ys.pop(i)\n",
        "\n",
        "  index = []\n",
        "  for i in range(len(xr)):\n",
        "    if xr[i] == 0:\n",
        "      index.append(i)\n",
        "    if yr[i] ==0:\n",
        "      if i not in index:\n",
        "        index.append(i)\n",
        "\n",
        "  index.sort(reverse=True)\n",
        "  for i in index:\n",
        "    xr.pop(i)\n",
        "    yr.pop(i)\n",
        "\n",
        "  color1=mcp.gen_color(cmap=\"YlOrRd\",n=len(xs))\n",
        "  color2=mcp.gen_color(cmap=\"Purples\",n=len(xs))\n",
        "\n",
        "  plt.rcParams[\"figure.figsize\"] = [5, 5]\n",
        "  plt.rcParams[\"figure.autolayout\"] = True\n",
        "\n",
        "  plt.xlim(xmin=0)\n",
        "  plt.xlim(xmax=1)\n",
        "\n",
        "  plt.ylim(ymin=0)\n",
        "  plt.ylim(ymax=1)\n",
        "  for i in range(len(xs)-2):\n",
        "    plt.plot(xs[i:i+2], ys[i:i+2], ',', linestyle=\"solid\", c=color1[i])\n",
        "    plt.plot(xr[i:i+2], yr[i:i+2], ',', linestyle=\"solid\", c=color2[i])\n",
        "  # ax=plt.gca()\n",
        "  # ax.get_xaxis().set_visible(False)\n",
        "  # ax.get_yaxis().set_visible(False)\n",
        "  plt.show\n",
        "  plt.savefig(image_path+ str(z) +'.png', dpi=300, bbox_inches='tight')\n",
        "  plt.clf()"
      ]
    },
    {
      "cell_type": "code",
      "source": [
        "xs"
      ],
      "metadata": {
        "colab": {
          "base_uri": "https://localhost:8080/"
        },
        "id": "ooWkRj94C8RF",
        "outputId": "81ca4a6b-ae79-4475-a7b8-9922ffbbdd79"
      },
      "execution_count": null,
      "outputs": [
        {
          "output_type": "execute_result",
          "data": {
            "text/plain": [
              "[]"
            ]
          },
          "metadata": {},
          "execution_count": 24
        }
      ]
    },
    {
      "cell_type": "code",
      "execution_count": null,
      "metadata": {
        "id": "xbNzrD07RYfw"
      },
      "outputs": [],
      "source": [
        "xr = []\n",
        "yr = []\n",
        "for index,row in df.iterrows():\n",
        "  x,y = row['Right_Hand']\n",
        "  xr.append(x)\n",
        "  y = abs(1-y)\n",
        "  yr.append(y)"
      ]
    },
    {
      "cell_type": "code",
      "execution_count": null,
      "metadata": {
        "id": "xMH6yYD57HjO",
        "colab": {
          "base_uri": "https://localhost:8080/",
          "height": 240
        },
        "outputId": "c06ed671-ce22-4344-bb59-fd61665492bd"
      },
      "outputs": [
        {
          "output_type": "error",
          "ename": "NameError",
          "evalue": "ignored",
          "traceback": [
            "\u001b[0;31m---------------------------------------------------------------------------\u001b[0m",
            "\u001b[0;31mNameError\u001b[0m                                 Traceback (most recent call last)",
            "\u001b[0;32m<ipython-input-12-7bb48d724d30>\u001b[0m in \u001b[0;36m<module>\u001b[0;34m()\u001b[0m\n\u001b[1;32m      1\u001b[0m \u001b[0mindex\u001b[0m \u001b[0;34m=\u001b[0m \u001b[0;34m[\u001b[0m\u001b[0;34m]\u001b[0m\u001b[0;34m\u001b[0m\u001b[0;34m\u001b[0m\u001b[0m\n\u001b[0;32m----> 2\u001b[0;31m \u001b[0;32mfor\u001b[0m \u001b[0mi\u001b[0m \u001b[0;32min\u001b[0m \u001b[0mrange\u001b[0m\u001b[0;34m(\u001b[0m\u001b[0mlen\u001b[0m\u001b[0;34m(\u001b[0m\u001b[0mxs\u001b[0m\u001b[0;34m)\u001b[0m\u001b[0;34m)\u001b[0m\u001b[0;34m:\u001b[0m\u001b[0;34m\u001b[0m\u001b[0;34m\u001b[0m\u001b[0m\n\u001b[0m\u001b[1;32m      3\u001b[0m   \u001b[0;32mif\u001b[0m \u001b[0mxs\u001b[0m\u001b[0;34m[\u001b[0m\u001b[0mi\u001b[0m\u001b[0;34m]\u001b[0m \u001b[0;34m==\u001b[0m \u001b[0;36m0\u001b[0m\u001b[0;34m:\u001b[0m\u001b[0;34m\u001b[0m\u001b[0;34m\u001b[0m\u001b[0m\n\u001b[1;32m      4\u001b[0m     \u001b[0mindex\u001b[0m\u001b[0;34m.\u001b[0m\u001b[0mappend\u001b[0m\u001b[0;34m(\u001b[0m\u001b[0mi\u001b[0m\u001b[0;34m)\u001b[0m\u001b[0;34m\u001b[0m\u001b[0;34m\u001b[0m\u001b[0m\n\u001b[1;32m      5\u001b[0m   \u001b[0;32mif\u001b[0m \u001b[0mys\u001b[0m\u001b[0;34m[\u001b[0m\u001b[0mi\u001b[0m\u001b[0;34m]\u001b[0m \u001b[0;34m==\u001b[0m\u001b[0;36m0\u001b[0m\u001b[0;34m:\u001b[0m\u001b[0;34m\u001b[0m\u001b[0;34m\u001b[0m\u001b[0m\n",
            "\u001b[0;31mNameError\u001b[0m: name 'xs' is not defined"
          ]
        }
      ],
      "source": [
        "index = []\n",
        "for i in range(len(xs)):\n",
        "  if xs[i] == 0:\n",
        "    index.append(i)\n",
        "  if ys[i] ==0:\n",
        "    if i not in index:\n",
        "      index.append(i)\n",
        "\n",
        "for i in index:\n",
        "  xs.pop(i)\n",
        "  ys.pop(i)"
      ]
    },
    {
      "cell_type": "code",
      "execution_count": null,
      "metadata": {
        "id": "Ob0c1y1vRdzE"
      },
      "outputs": [],
      "source": [
        "index = []\n",
        "for i in range(len(xr)):\n",
        "  if xr[i] == 0:\n",
        "    index.append(i)\n",
        "  if yr[i] ==0:\n",
        "    if i not in index:\n",
        "      index.append(i)\n",
        "index.sort(reverse=True)\n",
        "for i in index:\n",
        "  xr.pop(i)\n",
        "  yr.pop(i)"
      ]
    },
    {
      "cell_type": "code",
      "execution_count": null,
      "metadata": {
        "id": "dsOPFXtEGR4e"
      },
      "outputs": [],
      "source": [
        "color1=mcp.gen_color(cmap=\"YlOrRd\",n=len(xs))\n",
        "color2=mcp.gen_color(cmap=\"Purples\",n=len(xs))"
      ]
    },
    {
      "cell_type": "code",
      "execution_count": null,
      "metadata": {
        "id": "wwNBvzwERlUW"
      },
      "outputs": [],
      "source": [
        "cmaps = {}\n",
        "\n",
        "gradient = np.linspace(0, 1, 256)\n",
        "gradient = np.vstack((gradient, gradient))\n",
        "\n",
        "\n",
        "def plot_color_gradients(category, cmap_list):\n",
        "    # Create figure and adjust figure height to number of colormaps\n",
        "    nrows = len(cmap_list)\n",
        "    figh = 0.35 + 0.15 + (nrows + (nrows - 1) * 0.1) * 0.22\n",
        "    fig, axs = plt.subplots(nrows=nrows + 1, figsize=(6.4, figh))\n",
        "    fig.subplots_adjust(top=1 - 0.35 / figh, bottom=0.15 / figh,\n",
        "                        left=0.2, right=0.99)\n",
        "    axs[0].set_title(f'{category} colormaps', fontsize=14)\n",
        "\n",
        "    for ax, name in zip(axs, cmap_list):\n",
        "        ax.imshow(gradient, aspect='auto', cmap=plt.get_cmap(name))\n",
        "        ax.text(-0.01, 0.5, name, va='center', ha='right', fontsize=10,\n",
        "                transform=ax.transAxes)\n",
        "\n",
        "    # Turn off *all* ticks & spines, not just the ones with colormaps.\n",
        "    for ax in axs:\n",
        "        ax.set_axis_off()\n",
        "\n",
        "    # Save colormap list for later.\n",
        "    cmaps[category] = cmap_list"
      ]
    },
    {
      "cell_type": "code",
      "execution_count": null,
      "metadata": {
        "colab": {
          "base_uri": "https://localhost:8080/",
          "height": 387
        },
        "id": "XuBt08itTGhI",
        "outputId": "2db585f4-80e2-44ee-dd0f-eebab94d1871"
      },
      "outputs": [
        {
          "data": {
            "text/plain": [
              "<function matplotlib.pyplot.show>"
            ]
          },
          "execution_count": 40,
          "metadata": {},
          "output_type": "execute_result"
        },
        {
          "data": {
            "image/png": "[encoded data removed]",
            "text/plain": [
              "<Figure size 360x360 with 1 Axes>"
            ]
          },
          "metadata": {},
          "output_type": "display_data"
        }
      ],
      "source": [
        ""
      ]
    },
    {
      "cell_type": "code",
      "execution_count": null,
      "metadata": {
        "colab": {
          "base_uri": "https://localhost:8080/",
          "height": 79
        },
        "id": "b_gbKZqyS9JH",
        "outputId": "18ea1c17-71fa-4263-b647-10bfa0f6642c"
      },
      "outputs": [
        {
          "data": {
            "image/png": "[encoded data removed]",
            "text/plain": [
              "<Figure size 460.8x69.264 with 3 Axes>"
            ]
          },
          "metadata": {},
          "output_type": "display_data"
        }
      ],
      "source": [
        "plot_color_gradients('Right Hand:Purples,  Left Hand:YlOrRd',\n",
        "                     ['Purples','YlOrRd'])"
      ]
    },
    {
      "cell_type": "markdown",
      "metadata": {
        "id": "BBWmyr248Wvq"
      },
      "source": [
        "# ViT"
      ]
    },
    {
      "cell_type": "code",
      "execution_count": 4,
      "metadata": {
        "id": "pAuzpiDFKSVj"
      },
      "outputs": [],
      "source": [
        "model = CCT(\n",
        "        img_size=1470,\n",
        "        patch_size=5,\n",
        "        in_channels=4,\n",
        "        seq_pool=True,\n",
        "        embedding_dim=64,\n",
        "        num_layers=1,\n",
        "        head_dim=96,\n",
        "        num_heads=1,\n",
        "        mlp_ratio=4.0,\n",
        "        n_classes=3,\n",
        "        p_dropout=0.1,\n",
        "        attn_dropout=0.1,\n",
        "        drop_path=0.1,\n",
        "        positional_embedding=\"learnable\",\n",
        "        decoder_config=(\n",
        "            64,\n",
        "            128,\n",
        "        ),\n",
        "        pooling_kernel_size=3,\n",
        "        pooling_stride=2,\n",
        "        pooling_padding=1\n",
        "    )"
      ]
    },
    {
      "cell_type": "code",
      "source": [
        "labels = []\n",
        "a = []"
      ],
      "metadata": {
        "id": "_Ln-vUVVFnKb"
      },
      "execution_count": 5,
      "outputs": []
    },
    {
      "cell_type": "code",
      "source": [
        "# Sequential\n",
        "# Deictic\n",
        "# Demarcative"
      ],
      "metadata": {
        "id": "AL19cxOshk80"
      },
      "execution_count": 7,
      "outputs": []
    },
    {
      "cell_type": "code",
      "source": [
        "path = \"/content/drive/MyDrive/GSOC_Images/Demarcative/\"\n",
        "list_dir = os.listdir(path)\n",
        "\n",
        "for i in tqdm(range(len(list_dir))):\n",
        "  img = Image.open(path+list_dir[i])\n",
        "  image = convert_tensor(img)\n",
        "  labels.append(0)\n",
        "  a.append(image)"
      ],
      "metadata": {
        "colab": {
          "base_uri": "https://localhost:8080/"
        },
        "id": "Dp2apM_5H93t",
        "outputId": "c86b0658-38d7-480b-8348-930221ec4826"
      },
      "execution_count": 8,
      "outputs": [
        {
          "output_type": "stream",
          "name": "stderr",
          "text": [
            "100%|██████████| 67/67 [00:04<00:00, 15.98it/s]\n"
          ]
        }
      ]
    },
    {
      "cell_type": "code",
      "source": [
        "images = torch.stack(a,dim=0)\n",
        "images.shape"
      ],
      "metadata": {
        "colab": {
          "base_uri": "https://localhost:8080/"
        },
        "id": "iYdfhzTN6T26",
        "outputId": "60ea88f3-51c0-4306-8b74-fd7b7c96f835"
      },
      "execution_count": 9,
      "outputs": [
        {
          "output_type": "execute_result",
          "data": {
            "text/plain": [
              "torch.Size([224, 4, 1470, 1470])"
            ]
          },
          "metadata": {},
          "execution_count": 9
        }
      ]
    },
    {
      "cell_type": "code",
      "source": [
        "labels = torch.tensor(labels)"
      ],
      "metadata": {
        "id": "8i-k_xOFVqNf"
      },
      "execution_count": 10,
      "outputs": []
    },
    {
      "cell_type": "code",
      "source": [
        "# images2 = torch.load(\"/content/drive/MyDrive/GSOC_Images/images.pt\")"
      ],
      "metadata": {
        "id": "NRveyByvhM1Y"
      },
      "execution_count": 7,
      "outputs": []
    },
    {
      "cell_type": "code",
      "source": [
        "# labels = torch.load(\"/content/drive/MyDrive/GSOC_Images/labels.pt\")"
      ],
      "metadata": {
        "id": "8BiSgCOZxZ7c"
      },
      "execution_count": 8,
      "outputs": []
    },
    {
      "cell_type": "code",
      "source": [
        "train_data = TensorDataset(images,labels)\n",
        "train_dataloader = DataLoader(train_data, batch_size=1, shuffle=True)"
      ],
      "metadata": {
        "id": "2vn95r4WV8Q8"
      },
      "execution_count": 11,
      "outputs": []
    },
    {
      "cell_type": "code",
      "source": [
        "import torch.optim as optim\n",
        "from tqdm import tqdm\n",
        "from torch import nn\n",
        "\n",
        "criterion = nn.CrossEntropyLoss()\n",
        "optimizer = optim.Adam(model.parameters(), lr=5e-3)"
      ],
      "metadata": {
        "id": "OwB81TcRvK_4"
      },
      "execution_count": 17,
      "outputs": []
    },
    {
      "cell_type": "code",
      "source": [
        "model_preds = []\n",
        "true_preds = []\n",
        "for epoch in range(1):  # loop over the dataset multiple times\n",
        "    print(\"The current epoch is \", epoch)\n",
        "    count=0\n",
        "    preds = []\n",
        "    lab = []\n",
        "    running_loss = 0.0\n",
        "    for step, batch in enumerate(tqdm(train_dataloader, desc=\"Iteration\")):\n",
        "        count+=1\n",
        "        image,label = batch\n",
        "        output = model(image)\n",
        "        model_preds.append(output)\n",
        "        true_preds.append(label)\n",
        "\n",
        "        # loss = criterion(output, label)\n",
        "\n",
        "        # running_loss += loss.item()\n",
        "\n",
        "        # loss.backward()\n",
        "        # optimizer.step()\n",
        "        # optimizer.zero_grad()\n",
        "    print(f\"The current loss is {running_loss}\")\n",
        "\n",
        "print('Finished Training')"
      ],
      "metadata": {
        "id": "-w_-sqmMuQbf"
      },
      "execution_count": null,
      "outputs": []
    },
    {
      "cell_type": "code",
      "source": [
        ""
      ],
      "metadata": {
        "id": "vfXEI1LN9w-E"
      },
      "execution_count": null,
      "outputs": []
    }
  ],
  "metadata": {
    "accelerator": "GPU",
    "colab": {
      "collapsed_sections": [
        "XXyvLMOx9PDH",
        "-vUCYfzjYezN",
        "KWlE1vSkiI_M",
        "iXjc_25p-G48"
      ],
      "name": "Red_Hen_Data_Post_Midterm",
      "provenance": [],
      "machine_shape": "hm"
    },
    "gpuClass": "standard",
    "kernelspec": {
      "display_name": "Python 3",
      "name": "python3"
    },
    "language_info": {
      "name": "python"
    }
  },
  "nbformat": 4,
  "nbformat_minor": 0
}